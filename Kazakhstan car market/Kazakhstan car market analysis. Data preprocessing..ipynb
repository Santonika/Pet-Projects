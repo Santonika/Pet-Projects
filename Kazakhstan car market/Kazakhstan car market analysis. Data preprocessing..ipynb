{
 "cells": [
  {
   "cell_type": "markdown",
   "id": "6801932a",
   "metadata": {
    "id": "6801932a"
   },
   "source": [
    "# Preprocessing of Car Sales Dataset in Kazakhstan for the Year 2019\n"
   ]
  },
  {
   "cell_type": "markdown",
   "id": "b22331f4",
   "metadata": {
    "id": "b22331f4"
   },
   "source": [
    "\n",
    "This is the pet project for the Kazakhstan car market in the year 2019\n",
    "There are many gaps, implicit duplicates, misprints and shifts in dataset.\n",
    "\n",
    "Here is the first part of the project. The goal is to edit the dataframe, (to the maximum extent) fill in the gaps and missing data, and convert all columns to the correct datatype.\n",
    "\n",
    "The data consists of information about car dealers, details about sold cars, characteristics, prices, and sales regions."
   ]
  },
  {
   "cell_type": "markdown",
   "id": "af69a66d",
   "metadata": {
    "id": "af69a66d"
   },
   "source": [
    "## Data preprocessing "
   ]
  },
  {
   "cell_type": "code",
   "execution_count": 13,
   "id": "be349266",
   "metadata": {
    "collapsed": true,
    "id": "be349266",
    "outputId": "9ff954fa-d902-4d27-aab9-63cc79067bc2"
   },
   "outputs": [
    {
     "name": "stdout",
     "output_type": "stream",
     "text": [
      "Requirement already satisfied: gdown in ./anaconda3/lib/python3.10/site-packages (5.0.1)\n",
      "Requirement already satisfied: tqdm in ./anaconda3/lib/python3.10/site-packages (from gdown) (4.64.1)\n",
      "Requirement already satisfied: beautifulsoup4 in ./anaconda3/lib/python3.10/site-packages (from gdown) (4.11.1)\n",
      "Requirement already satisfied: filelock in ./anaconda3/lib/python3.10/site-packages (from gdown) (3.9.0)\n",
      "Requirement already satisfied: requests[socks] in ./anaconda3/lib/python3.10/site-packages (from gdown) (2.28.1)\n",
      "Requirement already satisfied: soupsieve>1.2 in ./anaconda3/lib/python3.10/site-packages (from beautifulsoup4->gdown) (2.3.2.post1)\n",
      "Requirement already satisfied: certifi>=2017.4.17 in ./anaconda3/lib/python3.10/site-packages (from requests[socks]->gdown) (2022.12.7)\n",
      "Requirement already satisfied: charset-normalizer<3,>=2 in ./anaconda3/lib/python3.10/site-packages (from requests[socks]->gdown) (2.0.4)\n",
      "Requirement already satisfied: idna<4,>=2.5 in ./anaconda3/lib/python3.10/site-packages (from requests[socks]->gdown) (3.4)\n",
      "Requirement already satisfied: urllib3<1.27,>=1.21.1 in ./anaconda3/lib/python3.10/site-packages (from requests[socks]->gdown) (1.26.14)\n",
      "Requirement already satisfied: PySocks!=1.5.7,>=1.5.6 in ./anaconda3/lib/python3.10/site-packages (from requests[socks]->gdown) (1.7.1)\n",
      "Note: you may need to restart the kernel to use updated packages.\n"
     ]
    }
   ],
   "source": [
    "pip install gdown"
   ]
  },
  {
   "cell_type": "code",
   "execution_count": 119,
   "id": "ffcf02d9",
   "metadata": {
    "id": "ffcf02d9"
   },
   "outputs": [],
   "source": [
    "# Connecting and loading  all necessary libraries\n",
    "import pandas as pd\n",
    "import re\n",
    "import numpy as np\n",
    "import seaborn as sns\n",
    "import matplotlib.pyplot as plt\n",
    "from plotly import graph_objects as go\n",
    "#import requests\n",
    "from io import StringIO\n",
    "import gdown\n",
    "\n",
    "sns.set(style=\"darkgrid\")\n"
   ]
  },
  {
   "cell_type": "code",
   "execution_count": 120,
   "id": "4c3ae6b3",
   "metadata": {
    "id": "4c3ae6b3",
    "outputId": "498888ab-0427-4346-ce59-902740de39ce"
   },
   "outputs": [
    {
     "name": "stderr",
     "output_type": "stream",
     "text": [
      "Downloading...\n",
      "From: https://drive.google.com/uc?id=1I0XgNP8LmKrN8YeW-tE11VS7lgjF3WRI\n",
      "To: /Users/Santonica/data.csv\n",
      "100%|██████████████████████████████████████| 14.2M/14.2M [00:00<00:00, 21.5MB/s]\n"
     ]
    }
   ],
   "source": [
    "\n",
    "# Google Drive link to the file\n",
    "file_url = 'https://drive.google.com/uc?id=1I0XgNP8LmKrN8YeW-tE11VS7lgjF3WRI'\n",
    "\n",
    "# Loading the file in CSV format\n",
    "gdown.download(file_url, 'data.csv', quiet=False)\n",
    "\n",
    "data = pd.read_csv('data.csv', sep = ';',decimal=',')"
   ]
  },
  {
   "cell_type": "code",
   "execution_count": 121,
   "id": "423fbb56",
   "metadata": {
    "id": "423fbb56",
    "outputId": "b5705851-6e96-4d90-fe70-f447d79077d0",
    "scrolled": true
   },
   "outputs": [
    {
     "data": {
      "text/html": [
       "<div>\n",
       "<style scoped>\n",
       "    .dataframe tbody tr th:only-of-type {\n",
       "        vertical-align: middle;\n",
       "    }\n",
       "\n",
       "    .dataframe tbody tr th {\n",
       "        vertical-align: top;\n",
       "    }\n",
       "\n",
       "    .dataframe thead th {\n",
       "        text-align: right;\n",
       "    }\n",
       "</style>\n",
       "<table border=\"1\" class=\"dataframe\">\n",
       "  <thead>\n",
       "    <tr style=\"text-align: right;\">\n",
       "      <th></th>\n",
       "      <th>Год</th>\n",
       "      <th>Месяц</th>\n",
       "      <th>Компания</th>\n",
       "      <th>Бренд</th>\n",
       "      <th>Модель</th>\n",
       "      <th>Модификация</th>\n",
       "      <th>Год выпуска</th>\n",
       "      <th>Страна-производитель</th>\n",
       "      <th>Вид топлива</th>\n",
       "      <th>Объём двиг, л,</th>\n",
       "      <th>...</th>\n",
       "      <th>Тип клиента</th>\n",
       "      <th>Форма расчета</th>\n",
       "      <th>Количество</th>\n",
       "      <th>Цена, USD</th>\n",
       "      <th>Продажа, USD</th>\n",
       "      <th>Область</th>\n",
       "      <th>Сегментация 2013</th>\n",
       "      <th>Класс 2013</th>\n",
       "      <th>Сегментация Eng</th>\n",
       "      <th>Локализация производства</th>\n",
       "    </tr>\n",
       "  </thead>\n",
       "  <tbody>\n",
       "    <tr>\n",
       "      <th>0</th>\n",
       "      <td>2019</td>\n",
       "      <td>Май</td>\n",
       "      <td>Mercur Auto</td>\n",
       "      <td>Audi</td>\n",
       "      <td>A3</td>\n",
       "      <td>TFSI</td>\n",
       "      <td>2018</td>\n",
       "      <td>Германия</td>\n",
       "      <td>Бензин</td>\n",
       "      <td>1,4</td>\n",
       "      <td>...</td>\n",
       "      <td>Физ. Лицо</td>\n",
       "      <td>безналичный</td>\n",
       "      <td>1.0</td>\n",
       "      <td>28115.00</td>\n",
       "      <td>28115.00</td>\n",
       "      <td>г.Алматы</td>\n",
       "      <td>Легковые автомобили</td>\n",
       "      <td>C класс</td>\n",
       "      <td>C</td>\n",
       "      <td>Импорт</td>\n",
       "    </tr>\n",
       "    <tr>\n",
       "      <th>1</th>\n",
       "      <td>2019</td>\n",
       "      <td>Август</td>\n",
       "      <td>Mercur Auto</td>\n",
       "      <td>Audi</td>\n",
       "      <td>A3</td>\n",
       "      <td>TFSI</td>\n",
       "      <td>2018</td>\n",
       "      <td>Германия</td>\n",
       "      <td>Бензин</td>\n",
       "      <td>1,4</td>\n",
       "      <td>...</td>\n",
       "      <td>Юр. Лицо</td>\n",
       "      <td>наличный</td>\n",
       "      <td>1.0</td>\n",
       "      <td>32246.99</td>\n",
       "      <td>32246.99</td>\n",
       "      <td>г.Алматы</td>\n",
       "      <td>Легковые автомобили</td>\n",
       "      <td>C класс</td>\n",
       "      <td>C</td>\n",
       "      <td>Импорт</td>\n",
       "    </tr>\n",
       "    <tr>\n",
       "      <th>2</th>\n",
       "      <td>2019</td>\n",
       "      <td>Апрель</td>\n",
       "      <td>Mercur Auto</td>\n",
       "      <td>Audi</td>\n",
       "      <td>A4</td>\n",
       "      <td>TFSI</td>\n",
       "      <td>2018</td>\n",
       "      <td>Германия</td>\n",
       "      <td>Бензин</td>\n",
       "      <td>1,4</td>\n",
       "      <td>...</td>\n",
       "      <td>Физ. Лицо</td>\n",
       "      <td>безналичный</td>\n",
       "      <td>1.0</td>\n",
       "      <td>32000.00</td>\n",
       "      <td>32000.00</td>\n",
       "      <td>г.Алматы</td>\n",
       "      <td>Легковые автомобили</td>\n",
       "      <td>D класс</td>\n",
       "      <td>D</td>\n",
       "      <td>Импорт</td>\n",
       "    </tr>\n",
       "    <tr>\n",
       "      <th>3</th>\n",
       "      <td>2019</td>\n",
       "      <td>Июль</td>\n",
       "      <td>Mercur Auto</td>\n",
       "      <td>Audi</td>\n",
       "      <td>A4</td>\n",
       "      <td>TFSI</td>\n",
       "      <td>2018</td>\n",
       "      <td>Германия</td>\n",
       "      <td>Бензин</td>\n",
       "      <td>1,4</td>\n",
       "      <td>...</td>\n",
       "      <td>Юр. Лицо</td>\n",
       "      <td>безналичный</td>\n",
       "      <td>1.0</td>\n",
       "      <td>31929.00</td>\n",
       "      <td>31929.00</td>\n",
       "      <td>г.Алматы</td>\n",
       "      <td>Легковые автомобили</td>\n",
       "      <td>D класс</td>\n",
       "      <td>D</td>\n",
       "      <td>Импорт</td>\n",
       "    </tr>\n",
       "    <tr>\n",
       "      <th>4</th>\n",
       "      <td>2019</td>\n",
       "      <td>Июль</td>\n",
       "      <td>Mercur Auto</td>\n",
       "      <td>Audi</td>\n",
       "      <td>A4</td>\n",
       "      <td>TFSI</td>\n",
       "      <td>2018</td>\n",
       "      <td>Германия</td>\n",
       "      <td>Бензин</td>\n",
       "      <td>1,4</td>\n",
       "      <td>...</td>\n",
       "      <td>Физ. Лицо</td>\n",
       "      <td>наличный</td>\n",
       "      <td>1.0</td>\n",
       "      <td>31929.00</td>\n",
       "      <td>31929.00</td>\n",
       "      <td>г.Алматы</td>\n",
       "      <td>Легковые автомобили</td>\n",
       "      <td>D класс</td>\n",
       "      <td>D</td>\n",
       "      <td>Импорт</td>\n",
       "    </tr>\n",
       "  </tbody>\n",
       "</table>\n",
       "<p>5 rows × 25 columns</p>\n",
       "</div>"
      ],
      "text/plain": [
       "    Год   Месяц     Компания Бренд Модель Модификация Год выпуска  \\\n",
       "0  2019     Май  Mercur Auto  Audi     A3        TFSI        2018   \n",
       "1  2019  Август  Mercur Auto  Audi     A3        TFSI        2018   \n",
       "2  2019  Апрель  Mercur Auto  Audi     A4        TFSI        2018   \n",
       "3  2019    Июль  Mercur Auto  Audi     A4        TFSI        2018   \n",
       "4  2019    Июль  Mercur Auto  Audi     A4        TFSI        2018   \n",
       "\n",
       "  Страна-производитель Вид топлива Объём двиг, л,  ... Тип клиента  \\\n",
       "0             Германия      Бензин            1,4  ...   Физ. Лицо   \n",
       "1             Германия      Бензин            1,4  ...    Юр. Лицо   \n",
       "2             Германия      Бензин            1,4  ...   Физ. Лицо   \n",
       "3             Германия      Бензин            1,4  ...    Юр. Лицо   \n",
       "4             Германия      Бензин            1,4  ...   Физ. Лицо   \n",
       "\n",
       "  Форма расчета Количество Цена, USD Продажа, USD   Область  \\\n",
       "0   безналичный        1.0  28115.00     28115.00  г.Алматы   \n",
       "1      наличный        1.0  32246.99     32246.99  г.Алматы   \n",
       "2   безналичный        1.0  32000.00     32000.00  г.Алматы   \n",
       "3   безналичный        1.0  31929.00     31929.00  г.Алматы   \n",
       "4      наличный        1.0  31929.00     31929.00  г.Алматы   \n",
       "\n",
       "      Сегментация 2013  Класс 2013  Сегментация Eng  Локализация производства  \n",
       "0  Легковые автомобили     C класс                C                    Импорт  \n",
       "1  Легковые автомобили     C класс                C                    Импорт  \n",
       "2  Легковые автомобили     D класс                D                    Импорт  \n",
       "3  Легковые автомобили     D класс                D                    Импорт  \n",
       "4  Легковые автомобили     D класс                D                    Импорт  \n",
       "\n",
       "[5 rows x 25 columns]"
      ]
     },
     "execution_count": 121,
     "metadata": {},
     "output_type": "execute_result"
    }
   ],
   "source": [
    "# What does the data consist of?\n",
    "data.head()"
   ]
  },
  {
   "cell_type": "code",
   "execution_count": 17,
   "id": "cc474388",
   "metadata": {
    "id": "cc474388",
    "outputId": "f74cd603-3cad-41b0-9bd5-a3865fc7235d",
    "scrolled": false
   },
   "outputs": [
    {
     "name": "stdout",
     "output_type": "stream",
     "text": [
      "<class 'pandas.core.frame.DataFrame'>\n",
      "RangeIndex: 39966 entries, 0 to 39965\n",
      "Data columns (total 25 columns):\n",
      " #   Column                          Non-Null Count  Dtype  \n",
      "---  ------                          --------------  -----  \n",
      " 0   Год                             39966 non-null  int64  \n",
      " 1   Месяц                           39966 non-null  object \n",
      " 2   Компания                        39966 non-null  object \n",
      " 3   Бренд                           39966 non-null  object \n",
      " 4   Модель                          39966 non-null  object \n",
      " 5   Модификация                     36375 non-null  object \n",
      " 6   Год выпуска                     39465 non-null  object \n",
      " 7   Страна-производитель            39966 non-null  object \n",
      " 8   Вид топлива                     36826 non-null  object \n",
      " 9   Объём двиг, л,                  35708 non-null  object \n",
      " 10  Коробка передач                 36711 non-null  object \n",
      " 11  Тип привода                     35677 non-null  object \n",
      " 12  Сегмент                         33205 non-null  object \n",
      " 13  Регион                          39966 non-null  object \n",
      " 14  Наименование дилерского центра  39966 non-null  object \n",
      " 15  Тип клиента                     32919 non-null  object \n",
      " 16  Форма расчета                   14038 non-null  object \n",
      " 17  Количество                      39960 non-null  float64\n",
      " 18  Цена, USD                       39966 non-null  float64\n",
      " 19  Продажа, USD                    39966 non-null  float64\n",
      " 20  Область                         39966 non-null  object \n",
      " 21  Сегментация 2013                39966 non-null  object \n",
      " 22  Класс 2013                      39966 non-null  object \n",
      " 23  Сегментация Eng                 39966 non-null  object \n",
      " 24  Локализация производства        39966 non-null  object \n",
      "dtypes: float64(3), int64(1), object(21)\n",
      "memory usage: 7.6+ MB\n"
     ]
    }
   ],
   "source": [
    "data.info()"
   ]
  },
  {
   "cell_type": "markdown",
   "id": "af1d6cbb",
   "metadata": {
    "id": "af1d6cbb"
   },
   "source": [
    "Observations on the provided data reveal the following:\n",
    "\n",
    "- Many columns contain missing values.\n",
    "- The datatype is predominantly object, with one int and one float.\n",
    "- The dataset comprises 39,966 rows and 25 columns."
   ]
  },
  {
   "cell_type": "markdown",
   "id": "75308a47",
   "metadata": {
    "id": "75308a47"
   },
   "source": [
    "### Columns"
   ]
  },
  {
   "cell_type": "markdown",
   "id": "c77d63e7",
   "metadata": {
    "id": "c77d63e7"
   },
   "source": [
    "Column standardization: translation, lowercase conversion, and removing spaces"
   ]
  },
  {
   "cell_type": "code",
   "execution_count": 19,
   "id": "a707e412",
   "metadata": {
    "id": "a707e412"
   },
   "outputs": [],
   "source": [
    "data = data.rename(columns = {\n",
    "    'Год': 'year',\n",
    "    'Месяц': 'month',\n",
    "    'Компания': 'company',\n",
    "    'Бренд': 'brand',\n",
    "    'Модель': 'model',\n",
    "    'Модификация': 'modification',\n",
    "    'Год выпуска': 'year_of_manufacture',\n",
    "    'Страна-производитель': 'country_of_manufacture',\n",
    "    'Вид топлива': 'type_of_fuel',\n",
    "    'Объём двиг, л,': 'engine_volume_l',\n",
    "    'Коробка передач': 'gearbox',\n",
    "    'Тип привода': 'drive_type',\n",
    "    'Сегмент': 'segment',\n",
    "    'Регион': 'region',\n",
    "    'Наименование дилерского центра': 'dealership_name',\n",
    "    'Тип клиента': 'client_type',\n",
    "    'Форма расчета': 'calculation_form',\n",
    "    'Количество': 'quantity',\n",
    "    'Цена, USD': 'price_usd',\n",
    "    'Продажа, USD': 'sale_usd',\n",
    "    'Область': 'area',\n",
    "    'Сегментация 2013': 'segmentation_2013',\n",
    "    'Класс 2013': 'class_2013',\n",
    "    'Сегментация Eng': 'segmentation_eng',\n",
    "    'Локализация производства': 'localization_of_production'\n",
    "})"
   ]
  },
  {
   "cell_type": "code",
   "execution_count": 20,
   "id": "fac94da2",
   "metadata": {
    "id": "fac94da2"
   },
   "outputs": [],
   "source": [
    "#display(data)"
   ]
  },
  {
   "cell_type": "code",
   "execution_count": 21,
   "id": "7852f3ea",
   "metadata": {
    "id": "7852f3ea",
    "outputId": "3a533256-1f6e-47df-fe13-3883012ddf33",
    "scrolled": true
   },
   "outputs": [
    {
     "data": {
      "text/plain": [
       "Index(['year', 'month', 'company', 'brand', 'model', 'modification',\n",
       "       'year_of_manufacture', 'country_of_manufacture', 'type_of_fuel',\n",
       "       'engine_volume_l', 'gearbox', 'drive_type', 'segment', 'region',\n",
       "       'dealership_name', 'client_type', 'calculation_form', 'quantity',\n",
       "       'price_usd', 'sale_usd', 'area', 'segmentation_2013', 'class_2013',\n",
       "       'segmentation_eng', 'localization_of_production'],\n",
       "      dtype='object')"
      ]
     },
     "execution_count": 21,
     "metadata": {},
     "output_type": "execute_result"
    }
   ],
   "source": [
    "data.columns"
   ]
  },
  {
   "cell_type": "code",
   "execution_count": 22,
   "id": "17680f17",
   "metadata": {
    "id": "17680f17",
    "outputId": "061bff12-beb9-4830-a4c6-3c98e0bf8f40",
    "scrolled": false
   },
   "outputs": [
    {
     "name": "stdout",
     "output_type": "stream",
     "text": [
      "(39966, 25)\n",
      "39966\n"
     ]
    }
   ],
   "source": [
    "start_shape = data.shape # DataFrame size\n",
    "start_shape_rows = data.shape[0]\n",
    "print(start_shape)\n",
    "print(start_shape_rows)"
   ]
  },
  {
   "cell_type": "markdown",
   "id": "7867b55f",
   "metadata": {
    "id": "7867b55f"
   },
   "source": [
    "The client mentioned that the following columns can be removed as they don't influence the analysis result. "
   ]
  },
  {
   "cell_type": "code",
   "execution_count": 23,
   "id": "2dcf145e",
   "metadata": {
    "id": "2dcf145e"
   },
   "outputs": [],
   "source": [
    "data = data.drop(['calculation_form','segment','localization_of_production'],axis=1)"
   ]
  },
  {
   "cell_type": "markdown",
   "id": "45db2db3",
   "metadata": {
    "id": "45db2db3"
   },
   "source": [
    "### Changing data types"
   ]
  },
  {
   "cell_type": "code",
   "execution_count": 24,
   "id": "7fba81bf",
   "metadata": {
    "id": "7fba81bf",
    "outputId": "44303982-7998-4795-baec-4e3a9d4f477d",
    "scrolled": true
   },
   "outputs": [
    {
     "data": {
      "text/plain": [
       "Index(['year', 'month', 'company', 'brand', 'model', 'modification',\n",
       "       'year_of_manufacture', 'country_of_manufacture', 'type_of_fuel',\n",
       "       'engine_volume_l', 'gearbox', 'drive_type', 'region', 'dealership_name',\n",
       "       'client_type', 'quantity', 'price_usd', 'sale_usd', 'area',\n",
       "       'segmentation_2013', 'class_2013', 'segmentation_eng'],\n",
       "      dtype='object')"
      ]
     },
     "execution_count": 24,
     "metadata": {},
     "output_type": "execute_result"
    }
   ],
   "source": [
    "data.columns"
   ]
  },
  {
   "cell_type": "code",
   "execution_count": 25,
   "id": "f1d9300c",
   "metadata": {
    "id": "f1d9300c"
   },
   "outputs": [],
   "source": [
    "str_col = ['company', 'brand', 'model', 'country_of_manufacture', 'type_of_fuel',\n",
    "           'gearbox', 'segmentation_eng', 'region', 'dealership_name', 'client_type','area', 'segmentation_2013' ]\n",
    "for column in str_col:\n",
    "    data[column] = data[column].astype(str)"
   ]
  },
  {
   "cell_type": "markdown",
   "id": "ada23e7e",
   "metadata": {
    "id": "ada23e7e"
   },
   "source": [
    "Let's attempt to convert all the following columns to the string datatype."
   ]
  },
  {
   "cell_type": "code",
   "execution_count": 26,
   "id": "39f18a1d",
   "metadata": {
    "id": "39f18a1d",
    "outputId": "12f6f492-cb37-4f08-f3e1-e1c5ef4c84a1"
   },
   "outputs": [
    {
     "data": {
      "text/html": [
       "<div>\n",
       "<style scoped>\n",
       "    .dataframe tbody tr th:only-of-type {\n",
       "        vertical-align: middle;\n",
       "    }\n",
       "\n",
       "    .dataframe tbody tr th {\n",
       "        vertical-align: top;\n",
       "    }\n",
       "\n",
       "    .dataframe thead th {\n",
       "        text-align: right;\n",
       "    }\n",
       "</style>\n",
       "<table border=\"1\" class=\"dataframe\">\n",
       "  <thead>\n",
       "    <tr style=\"text-align: right;\">\n",
       "      <th></th>\n",
       "      <th>year</th>\n",
       "      <th>month</th>\n",
       "      <th>company</th>\n",
       "      <th>brand</th>\n",
       "      <th>model</th>\n",
       "      <th>modification</th>\n",
       "      <th>year_of_manufacture</th>\n",
       "      <th>country_of_manufacture</th>\n",
       "      <th>type_of_fuel</th>\n",
       "      <th>engine_volume_l</th>\n",
       "      <th>...</th>\n",
       "      <th>region</th>\n",
       "      <th>dealership_name</th>\n",
       "      <th>client_type</th>\n",
       "      <th>quantity</th>\n",
       "      <th>price_usd</th>\n",
       "      <th>sale_usd</th>\n",
       "      <th>area</th>\n",
       "      <th>segmentation_2013</th>\n",
       "      <th>class_2013</th>\n",
       "      <th>segmentation_eng</th>\n",
       "    </tr>\n",
       "  </thead>\n",
       "  <tbody>\n",
       "    <tr>\n",
       "      <th>0</th>\n",
       "      <td>2019</td>\n",
       "      <td>Май</td>\n",
       "      <td>Mercur Auto</td>\n",
       "      <td>Audi</td>\n",
       "      <td>A3</td>\n",
       "      <td>TFSI</td>\n",
       "      <td>2018</td>\n",
       "      <td>Германия</td>\n",
       "      <td>Бензин</td>\n",
       "      <td>1,4</td>\n",
       "      <td>...</td>\n",
       "      <td>Алматы</td>\n",
       "      <td>Mercur Auto Алматы</td>\n",
       "      <td>Физ. Лицо</td>\n",
       "      <td>1.0</td>\n",
       "      <td>28115.00000</td>\n",
       "      <td>28115.00000</td>\n",
       "      <td>г.Алматы</td>\n",
       "      <td>Легковые автомобили</td>\n",
       "      <td>C класс</td>\n",
       "      <td>C</td>\n",
       "    </tr>\n",
       "    <tr>\n",
       "      <th>1</th>\n",
       "      <td>2019</td>\n",
       "      <td>Август</td>\n",
       "      <td>Mercur Auto</td>\n",
       "      <td>Audi</td>\n",
       "      <td>A3</td>\n",
       "      <td>TFSI</td>\n",
       "      <td>2018</td>\n",
       "      <td>Германия</td>\n",
       "      <td>Бензин</td>\n",
       "      <td>1,4</td>\n",
       "      <td>...</td>\n",
       "      <td>Алматы</td>\n",
       "      <td>Mercur Auto Алматы</td>\n",
       "      <td>Юр. Лицо</td>\n",
       "      <td>1.0</td>\n",
       "      <td>32246.99000</td>\n",
       "      <td>32246.99000</td>\n",
       "      <td>г.Алматы</td>\n",
       "      <td>Легковые автомобили</td>\n",
       "      <td>C класс</td>\n",
       "      <td>C</td>\n",
       "    </tr>\n",
       "    <tr>\n",
       "      <th>2</th>\n",
       "      <td>2019</td>\n",
       "      <td>Апрель</td>\n",
       "      <td>Mercur Auto</td>\n",
       "      <td>Audi</td>\n",
       "      <td>A4</td>\n",
       "      <td>TFSI</td>\n",
       "      <td>2018</td>\n",
       "      <td>Германия</td>\n",
       "      <td>Бензин</td>\n",
       "      <td>1,4</td>\n",
       "      <td>...</td>\n",
       "      <td>Алматы</td>\n",
       "      <td>Mercur Auto Алматы</td>\n",
       "      <td>Физ. Лицо</td>\n",
       "      <td>1.0</td>\n",
       "      <td>32000.00000</td>\n",
       "      <td>32000.00000</td>\n",
       "      <td>г.Алматы</td>\n",
       "      <td>Легковые автомобили</td>\n",
       "      <td>D класс</td>\n",
       "      <td>D</td>\n",
       "    </tr>\n",
       "    <tr>\n",
       "      <th>3</th>\n",
       "      <td>2019</td>\n",
       "      <td>Июль</td>\n",
       "      <td>Mercur Auto</td>\n",
       "      <td>Audi</td>\n",
       "      <td>A4</td>\n",
       "      <td>TFSI</td>\n",
       "      <td>2018</td>\n",
       "      <td>Германия</td>\n",
       "      <td>Бензин</td>\n",
       "      <td>1,4</td>\n",
       "      <td>...</td>\n",
       "      <td>Алматы</td>\n",
       "      <td>Mercur Auto Алматы</td>\n",
       "      <td>Юр. Лицо</td>\n",
       "      <td>1.0</td>\n",
       "      <td>31929.00000</td>\n",
       "      <td>31929.00000</td>\n",
       "      <td>г.Алматы</td>\n",
       "      <td>Легковые автомобили</td>\n",
       "      <td>D класс</td>\n",
       "      <td>D</td>\n",
       "    </tr>\n",
       "    <tr>\n",
       "      <th>4</th>\n",
       "      <td>2019</td>\n",
       "      <td>Июль</td>\n",
       "      <td>Mercur Auto</td>\n",
       "      <td>Audi</td>\n",
       "      <td>A4</td>\n",
       "      <td>TFSI</td>\n",
       "      <td>2018</td>\n",
       "      <td>Германия</td>\n",
       "      <td>Бензин</td>\n",
       "      <td>1,4</td>\n",
       "      <td>...</td>\n",
       "      <td>Алматы</td>\n",
       "      <td>Mercur Auto Алматы</td>\n",
       "      <td>Физ. Лицо</td>\n",
       "      <td>1.0</td>\n",
       "      <td>31929.00000</td>\n",
       "      <td>31929.00000</td>\n",
       "      <td>г.Алматы</td>\n",
       "      <td>Легковые автомобили</td>\n",
       "      <td>D класс</td>\n",
       "      <td>D</td>\n",
       "    </tr>\n",
       "    <tr>\n",
       "      <th>...</th>\n",
       "      <td>...</td>\n",
       "      <td>...</td>\n",
       "      <td>...</td>\n",
       "      <td>...</td>\n",
       "      <td>...</td>\n",
       "      <td>...</td>\n",
       "      <td>...</td>\n",
       "      <td>...</td>\n",
       "      <td>...</td>\n",
       "      <td>...</td>\n",
       "      <td>...</td>\n",
       "      <td>...</td>\n",
       "      <td>...</td>\n",
       "      <td>...</td>\n",
       "      <td>...</td>\n",
       "      <td>...</td>\n",
       "      <td>...</td>\n",
       "      <td>...</td>\n",
       "      <td>...</td>\n",
       "      <td>...</td>\n",
       "      <td>...</td>\n",
       "    </tr>\n",
       "    <tr>\n",
       "      <th>39961</th>\n",
       "      <td>2019</td>\n",
       "      <td>Сентябрь</td>\n",
       "      <td>ТК КАМАЗ</td>\n",
       "      <td>KAMAZ</td>\n",
       "      <td>58815Z</td>\n",
       "      <td>KAMAZ 58815Z</td>\n",
       "      <td>2019</td>\n",
       "      <td>Республика Казахстан</td>\n",
       "      <td>Дизель</td>\n",
       "      <td>NaN</td>\n",
       "      <td>...</td>\n",
       "      <td>Актобе</td>\n",
       "      <td>ЗапКазКАМАЗ -Актобе</td>\n",
       "      <td>Юр. Лицо</td>\n",
       "      <td>1.0</td>\n",
       "      <td>48756.92071</td>\n",
       "      <td>48756.92071</td>\n",
       "      <td>Актюбинская область</td>\n",
       "      <td>Коммерческие автомобили</td>\n",
       "      <td>Крупнотоннажные грузовики</td>\n",
       "      <td>O</td>\n",
       "    </tr>\n",
       "    <tr>\n",
       "      <th>39962</th>\n",
       "      <td>2019</td>\n",
       "      <td>Сентябрь</td>\n",
       "      <td>ТК КАМАЗ</td>\n",
       "      <td>KAMAZ</td>\n",
       "      <td>58815Z</td>\n",
       "      <td>KAMAZ 58815Z</td>\n",
       "      <td>2019</td>\n",
       "      <td>Республика Казахстан</td>\n",
       "      <td>Дизель</td>\n",
       "      <td>NaN</td>\n",
       "      <td>...</td>\n",
       "      <td>Актобе</td>\n",
       "      <td>ЗапКазКАМАЗ -Актобе</td>\n",
       "      <td>Юр. Лицо</td>\n",
       "      <td>1.0</td>\n",
       "      <td>48756.92071</td>\n",
       "      <td>48756.92071</td>\n",
       "      <td>Актюбинская область</td>\n",
       "      <td>Коммерческие автомобили</td>\n",
       "      <td>Крупнотоннажные грузовики</td>\n",
       "      <td>O</td>\n",
       "    </tr>\n",
       "    <tr>\n",
       "      <th>39963</th>\n",
       "      <td>2019</td>\n",
       "      <td>Сентябрь</td>\n",
       "      <td>ТК КАМАЗ</td>\n",
       "      <td>KAMAZ</td>\n",
       "      <td>58815Z</td>\n",
       "      <td>KAMAZ 58815Z</td>\n",
       "      <td>2019</td>\n",
       "      <td>Республика Казахстан</td>\n",
       "      <td>Дизель</td>\n",
       "      <td>NaN</td>\n",
       "      <td>...</td>\n",
       "      <td>Актобе</td>\n",
       "      <td>ЗапКазКАМАЗ -Актобе</td>\n",
       "      <td>Юр. Лицо</td>\n",
       "      <td>1.0</td>\n",
       "      <td>48756.92071</td>\n",
       "      <td>48756.92071</td>\n",
       "      <td>Актюбинская область</td>\n",
       "      <td>Коммерческие автомобили</td>\n",
       "      <td>Крупнотоннажные грузовики</td>\n",
       "      <td>O</td>\n",
       "    </tr>\n",
       "    <tr>\n",
       "      <th>39964</th>\n",
       "      <td>2019</td>\n",
       "      <td>Сентябрь</td>\n",
       "      <td>ТК КАМАЗ</td>\n",
       "      <td>KAMAZ</td>\n",
       "      <td>58815Z</td>\n",
       "      <td>KAMAZ 58815Z</td>\n",
       "      <td>2019</td>\n",
       "      <td>Республика Казахстан</td>\n",
       "      <td>Дизель</td>\n",
       "      <td>NaN</td>\n",
       "      <td>...</td>\n",
       "      <td>Актобе</td>\n",
       "      <td>ЗапКазКАМАЗ -Актобе</td>\n",
       "      <td>Юр. Лицо</td>\n",
       "      <td>1.0</td>\n",
       "      <td>48756.92071</td>\n",
       "      <td>48756.92071</td>\n",
       "      <td>Актюбинская область</td>\n",
       "      <td>Коммерческие автомобили</td>\n",
       "      <td>Крупнотоннажные грузовики</td>\n",
       "      <td>O</td>\n",
       "    </tr>\n",
       "    <tr>\n",
       "      <th>39965</th>\n",
       "      <td>2019</td>\n",
       "      <td>Сентябрь</td>\n",
       "      <td>ТК КАМАЗ</td>\n",
       "      <td>KAMAZ</td>\n",
       "      <td>58815Z</td>\n",
       "      <td>KAMAZ 58815Z</td>\n",
       "      <td>2019</td>\n",
       "      <td>Республика Казахстан</td>\n",
       "      <td>Дизель</td>\n",
       "      <td>NaN</td>\n",
       "      <td>...</td>\n",
       "      <td>Актобе</td>\n",
       "      <td>ЗапКазКАМАЗ -Актобе</td>\n",
       "      <td>Юр. Лицо</td>\n",
       "      <td>1.0</td>\n",
       "      <td>48756.92071</td>\n",
       "      <td>48756.92071</td>\n",
       "      <td>Актюбинская область</td>\n",
       "      <td>Коммерческие автомобили</td>\n",
       "      <td>Крупнотоннажные грузовики</td>\n",
       "      <td>O</td>\n",
       "    </tr>\n",
       "  </tbody>\n",
       "</table>\n",
       "<p>39966 rows × 22 columns</p>\n",
       "</div>"
      ],
      "text/plain": [
       "       year     month      company  brand   model  modification  \\\n",
       "0      2019       Май  Mercur Auto   Audi      A3          TFSI   \n",
       "1      2019    Август  Mercur Auto   Audi      A3          TFSI   \n",
       "2      2019    Апрель  Mercur Auto   Audi      A4          TFSI   \n",
       "3      2019      Июль  Mercur Auto   Audi      A4          TFSI   \n",
       "4      2019      Июль  Mercur Auto   Audi      A4          TFSI   \n",
       "...     ...       ...          ...    ...     ...           ...   \n",
       "39961  2019  Сентябрь     ТК КАМАЗ  KAMAZ  58815Z  KAMAZ 58815Z   \n",
       "39962  2019  Сентябрь     ТК КАМАЗ  KAMAZ  58815Z  KAMAZ 58815Z   \n",
       "39963  2019  Сентябрь     ТК КАМАЗ  KAMAZ  58815Z  KAMAZ 58815Z   \n",
       "39964  2019  Сентябрь     ТК КАМАЗ  KAMAZ  58815Z  KAMAZ 58815Z   \n",
       "39965  2019  Сентябрь     ТК КАМАЗ  KAMAZ  58815Z  KAMAZ 58815Z   \n",
       "\n",
       "      year_of_manufacture country_of_manufacture type_of_fuel engine_volume_l  \\\n",
       "0                    2018               Германия       Бензин             1,4   \n",
       "1                    2018               Германия       Бензин             1,4   \n",
       "2                    2018               Германия       Бензин             1,4   \n",
       "3                    2018               Германия       Бензин             1,4   \n",
       "4                    2018               Германия       Бензин             1,4   \n",
       "...                   ...                    ...          ...             ...   \n",
       "39961                2019   Республика Казахстан       Дизель             NaN   \n",
       "39962                2019   Республика Казахстан       Дизель             NaN   \n",
       "39963                2019   Республика Казахстан       Дизель             NaN   \n",
       "39964                2019   Республика Казахстан       Дизель             NaN   \n",
       "39965                2019   Республика Казахстан       Дизель             NaN   \n",
       "\n",
       "       ...  region      dealership_name client_type quantity    price_usd  \\\n",
       "0      ...  Алматы   Mercur Auto Алматы   Физ. Лицо      1.0  28115.00000   \n",
       "1      ...  Алматы   Mercur Auto Алматы    Юр. Лицо      1.0  32246.99000   \n",
       "2      ...  Алматы   Mercur Auto Алматы   Физ. Лицо      1.0  32000.00000   \n",
       "3      ...  Алматы   Mercur Auto Алматы    Юр. Лицо      1.0  31929.00000   \n",
       "4      ...  Алматы   Mercur Auto Алматы   Физ. Лицо      1.0  31929.00000   \n",
       "...    ...     ...                  ...         ...      ...          ...   \n",
       "39961  ...  Актобе  ЗапКазКАМАЗ -Актобе    Юр. Лицо      1.0  48756.92071   \n",
       "39962  ...  Актобе  ЗапКазКАМАЗ -Актобе    Юр. Лицо      1.0  48756.92071   \n",
       "39963  ...  Актобе  ЗапКазКАМАЗ -Актобе    Юр. Лицо      1.0  48756.92071   \n",
       "39964  ...  Актобе  ЗапКазКАМАЗ -Актобе    Юр. Лицо      1.0  48756.92071   \n",
       "39965  ...  Актобе  ЗапКазКАМАЗ -Актобе    Юр. Лицо      1.0  48756.92071   \n",
       "\n",
       "          sale_usd                 area        segmentation_2013  \\\n",
       "0      28115.00000             г.Алматы      Легковые автомобили   \n",
       "1      32246.99000             г.Алматы      Легковые автомобили   \n",
       "2      32000.00000             г.Алматы      Легковые автомобили   \n",
       "3      31929.00000             г.Алматы      Легковые автомобили   \n",
       "4      31929.00000             г.Алматы      Легковые автомобили   \n",
       "...            ...                  ...                      ...   \n",
       "39961  48756.92071  Актюбинская область  Коммерческие автомобили   \n",
       "39962  48756.92071  Актюбинская область  Коммерческие автомобили   \n",
       "39963  48756.92071  Актюбинская область  Коммерческие автомобили   \n",
       "39964  48756.92071  Актюбинская область  Коммерческие автомобили   \n",
       "39965  48756.92071  Актюбинская область  Коммерческие автомобили   \n",
       "\n",
       "                      class_2013 segmentation_eng  \n",
       "0                        C класс                C  \n",
       "1                        C класс                C  \n",
       "2                        D класс                D  \n",
       "3                        D класс                D  \n",
       "4                        D класс                D  \n",
       "...                          ...              ...  \n",
       "39961  Крупнотоннажные грузовики                O  \n",
       "39962  Крупнотоннажные грузовики                O  \n",
       "39963  Крупнотоннажные грузовики                O  \n",
       "39964  Крупнотоннажные грузовики                O  \n",
       "39965  Крупнотоннажные грузовики                O  \n",
       "\n",
       "[39966 rows x 22 columns]"
      ]
     },
     "metadata": {},
     "output_type": "display_data"
    }
   ],
   "source": [
    "display(data)"
   ]
  },
  {
   "cell_type": "code",
   "execution_count": 27,
   "id": "5380288e",
   "metadata": {
    "id": "5380288e"
   },
   "outputs": [],
   "source": [
    "# Replacement of commas with periods in float values and conversion to float datatype\n",
    "num_col = ['quantity', 'price_usd','sale_usd']\n",
    "for column in num_col:\n",
    "    data[column] = data[column].astype(str)\n",
    "    data[column] = data[column].str.replace(',','.').astype(float).round(2)\n",
    "\n"
   ]
  },
  {
   "cell_type": "code",
   "execution_count": 28,
   "id": "310a56bf",
   "metadata": {
    "id": "310a56bf",
    "outputId": "fd53af53-6f02-43df-f0b6-c66fc6c70e57"
   },
   "outputs": [
    {
     "name": "stdout",
     "output_type": "stream",
     "text": [
      "<class 'pandas.core.frame.DataFrame'>\n",
      "RangeIndex: 39966 entries, 0 to 39965\n",
      "Data columns (total 22 columns):\n",
      " #   Column                  Non-Null Count  Dtype  \n",
      "---  ------                  --------------  -----  \n",
      " 0   year                    39966 non-null  int64  \n",
      " 1   month                   39966 non-null  object \n",
      " 2   company                 39966 non-null  object \n",
      " 3   brand                   39966 non-null  object \n",
      " 4   model                   39966 non-null  object \n",
      " 5   modification            36375 non-null  object \n",
      " 6   year_of_manufacture     39465 non-null  object \n",
      " 7   country_of_manufacture  39966 non-null  object \n",
      " 8   type_of_fuel            39966 non-null  object \n",
      " 9   engine_volume_l         35708 non-null  object \n",
      " 10  gearbox                 39966 non-null  object \n",
      " 11  drive_type              35677 non-null  object \n",
      " 12  region                  39966 non-null  object \n",
      " 13  dealership_name         39966 non-null  object \n",
      " 14  client_type             39966 non-null  object \n",
      " 15  quantity                39960 non-null  float64\n",
      " 16  price_usd               39966 non-null  float64\n",
      " 17  sale_usd                39966 non-null  float64\n",
      " 18  area                    39966 non-null  object \n",
      " 19  segmentation_2013       39966 non-null  object \n",
      " 20  class_2013              39966 non-null  object \n",
      " 21  segmentation_eng        39966 non-null  object \n",
      "dtypes: float64(3), int64(1), object(18)\n",
      "memory usage: 6.7+ MB\n"
     ]
    }
   ],
   "source": [
    "data.info()"
   ]
  },
  {
   "cell_type": "markdown",
   "id": "c9e8aeb6",
   "metadata": {
    "id": "c9e8aeb6"
   },
   "source": [
    "## Duplicates"
   ]
  },
  {
   "cell_type": "code",
   "execution_count": 29,
   "id": "403a6602",
   "metadata": {
    "id": "403a6602",
    "outputId": "c87d0da5-2b41-47ad-e993-5d3323113a3d",
    "scrolled": true
   },
   "outputs": [
    {
     "name": "stdout",
     "output_type": "stream",
     "text": [
      "Number of duplicates =  19275\n"
     ]
    }
   ],
   "source": [
    "print('Number of duplicates = ',data.duplicated().sum())"
   ]
  },
  {
   "cell_type": "code",
   "execution_count": 30,
   "id": "69baee68",
   "metadata": {
    "id": "69baee68"
   },
   "outputs": [],
   "source": [
    "data_clear = data.drop_duplicates().reset_index(drop=True)"
   ]
  },
  {
   "cell_type": "code",
   "execution_count": 31,
   "id": "8940e3bf",
   "metadata": {
    "id": "8940e3bf",
    "outputId": "582130b4-9152-4e64-9bff-d746685666de"
   },
   "outputs": [
    {
     "name": "stdout",
     "output_type": "stream",
     "text": [
      "Losses = 48.23%\n"
     ]
    }
   ],
   "source": [
    "size = data.shape[0]\n",
    "lost = data.shape[0]-data_clear.shape[0]\n",
    "print(f'Losses = {round(lost*100/size,2)}%')"
   ]
  },
  {
   "cell_type": "markdown",
   "id": "10e49c18",
   "metadata": {
    "id": "10e49c18"
   },
   "source": [
    "Dropping all explicit duplicates would result in losing almost half of the dataset, which is unacceptable. Additionally, the client clarified that the dataset is not personalized, and many rows are repeated. There would be significantly fewer duplicates if the client identifier parameter had been entered."
   ]
  },
  {
   "cell_type": "markdown",
   "id": "4de563bc",
   "metadata": {
    "id": "4de563bc"
   },
   "source": [
    "### Data preprocessing"
   ]
  },
  {
   "cell_type": "markdown",
   "id": "8543ae8f",
   "metadata": {
    "id": "8543ae8f"
   },
   "source": [
    "Print a histogram of the dataset to preview the data."
   ]
  },
  {
   "cell_type": "code",
   "execution_count": 32,
   "id": "f9d1d31d",
   "metadata": {
    "id": "f9d1d31d",
    "outputId": "c1513bf8-1949-4ddc-c986-033c9dcdec18"
   },
   "outputs": [
    {
     "data": {
      "image/png": "[encoded data removed]",
      "text/plain": [
       "<Figure size 640x480 with 4 Axes>"
      ]
     },
     "metadata": {},
     "output_type": "display_data"
    }
   ],
   "source": [
    "data.hist();"
   ]
  },
  {
   "cell_type": "markdown",
   "id": "a997856b",
   "metadata": {
    "id": "a997856b"
   },
   "source": [
    "### Sequence correction of each column."
   ]
  },
  {
   "cell_type": "markdown",
   "id": "7cc8a246",
   "metadata": {
    "id": "7cc8a246"
   },
   "source": [
    "### Year"
   ]
  },
  {
   "cell_type": "markdown",
   "id": "5be30d8b",
   "metadata": {},
   "source": [
    "Artifacts or missing values not found."
   ]
  },
  {
   "cell_type": "code",
   "execution_count": 33,
   "id": "95d9c729",
   "metadata": {
    "id": "95d9c729",
    "outputId": "6a962f85-a75a-411c-b52d-3c965fadcc55",
    "scrolled": false
   },
   "outputs": [
    {
     "data": {
      "text/plain": [
       "2019    39966\n",
       "Name: year, dtype: int64"
      ]
     },
     "execution_count": 33,
     "metadata": {},
     "output_type": "execute_result"
    }
   ],
   "source": [
    "data['year'].value_counts()"
   ]
  },
  {
   "cell_type": "markdown",
   "id": "b521d5f4",
   "metadata": {
    "id": "b521d5f4"
   },
   "source": [
    "### Month"
   ]
  },
  {
   "cell_type": "code",
   "execution_count": 34,
   "id": "5de131cf",
   "metadata": {
    "id": "5de131cf",
    "outputId": "304978c3-ffda-43dc-846b-7b8f9abe1f75",
    "scrolled": true
   },
   "outputs": [
    {
     "data": {
      "text/plain": [
       "Июль        5930\n",
       "Сентябрь    5312\n",
       "Август      4812\n",
       "Май         4798\n",
       "Июнь        4754\n",
       "Апрель      4177\n",
       "Март        3662\n",
       "Январь      3384\n",
       "Февраль     3137\n",
       "Name: month, dtype: int64"
      ]
     },
     "execution_count": 34,
     "metadata": {},
     "output_type": "execute_result"
    }
   ],
   "source": [
    "data['month'].value_counts()\n",
    "# data['месяц'].hist(bins=8,figsize=(11,5))"
   ]
  },
  {
   "cell_type": "code",
   "execution_count": 35,
   "id": "053d0ca2",
   "metadata": {},
   "outputs": [],
   "source": [
    "# Replace the month names with their corresponding numerical representations\n",
    "month = { 'Январь': 1,\n",
    "         'Февраль': 2,\n",
    "         'Март': 3,\n",
    "         'Апрель': 4,\n",
    "         'Май': 5,\n",
    "         'Июнь': 6,\n",
    "         'Июль': 7,\n",
    "         'Август': 8,\n",
    "         'Сентябрь': 9,\n",
    "         'Октябрь': 10,\n",
    "         'Ноябрь': 11,\n",
    "         'Декабрь': 12\n",
    "        }"
   ]
  },
  {
   "cell_type": "code",
   "execution_count": 36,
   "id": "d51e8af0",
   "metadata": {},
   "outputs": [],
   "source": [
    "data['month_num'] = data['month'].map(month)"
   ]
  },
  {
   "cell_type": "code",
   "execution_count": 37,
   "id": "f4f17730",
   "metadata": {
    "id": "f4f17730",
    "outputId": "2f78c22c-5afd-4192-de26-6ae0f45e3090"
   },
   "outputs": [
    {
     "data": {
      "image/png": "[encoded data removed]",
      "text/plain": [
       "<Figure size 1200x500 with 1 Axes>"
      ]
     },
     "metadata": {},
     "output_type": "display_data"
    }
   ],
   "source": [
    "data['month_num'].hist(bins = 8, figsize=(12,5))\n",
    "\n",
    "plt.xlabel('Month')\n",
    "plt.ylabel('Quantity')\n",
    "plt.title('Month distribution')\n",
    "\n",
    "plt.show()"
   ]
  },
  {
   "cell_type": "markdown",
   "id": "0659c15a",
   "metadata": {
    "id": "0659c15a"
   },
   "source": [
    "### Company"
   ]
  },
  {
   "cell_type": "markdown",
   "id": "45bc1690",
   "metadata": {
    "id": "45bc1690"
   },
   "source": [
    "Вring company names to a single standard."
   ]
  },
  {
   "cell_type": "code",
   "execution_count": 38,
   "id": "221796ea",
   "metadata": {
    "id": "221796ea"
   },
   "outputs": [],
   "source": [
    "data['company'] = data['company'].str.strip()\n",
    "data['company'] = data['company'].replace({'Mercur Autos':'Mercur Auto',\n",
    "            'ММС Рус':'MMC RUS',\n",
    "            'Caspian Motors':'Каспиан Моторс',\n",
    "            'Равон Моторс Казахстан':'Ravon Motors Kazakstan','Казахстан':'Kazakstan','RUS':'Рус',\n",
    "            'Хино Моторс Kazakstan':'Hino Motors'}, regex=True)"
   ]
  },
  {
   "cell_type": "code",
   "execution_count": 39,
   "id": "4611c69d",
   "metadata": {
    "id": "4611c69d",
    "outputId": "59ca7ea5-c287-4644-ba26-952a043a2e38"
   },
   "outputs": [
    {
     "data": {
      "text/plain": [
       "company\n",
       "Allur Auto                       2526\n",
       "Almaty Motors Premium              94\n",
       "Astana Motors                   10169\n",
       "Autokapital                        85\n",
       "Daewoo Bus Kazakhstan              10\n",
       "Eurasia Motor Premium             102\n",
       "Hino Motors                         2\n",
       "Hyundai Com Trans Kazakhstan      155\n",
       "MAN Truck & Bus Kazakhstan          6\n",
       "MMC RUS                           408\n",
       "MMC Рус                             2\n",
       "Mercur Auto                       643\n",
       "Nissan Manufacturing Рус         1149\n",
       "Ravon Motors Kazakstan           1506\n",
       "Renault Россия                   1796\n",
       "Scandinavian Motors                42\n",
       "Scania Central Asia                12\n",
       "Subaru Kazakhstan                 503\n",
       "TERRA MOTORS                       77\n",
       "Toyota Motor Kazakhstan         11951\n",
       "Volkswagen Group Rus              109\n",
       "Автодом Motors KST                 53\n",
       "Автокапитал                        33\n",
       "Автомир ГК                        112\n",
       "Автомир-Центр                      34\n",
       "Автоцентр-Бавария                 224\n",
       "БИПЭК АВТО                       3624\n",
       "Вираж                            2909\n",
       "Каспиан Моторс                      3\n",
       "Лифан Моторс Рус                  233\n",
       "СВС-ТРАНС                         202\n",
       "СемАЗ                              93\n",
       "ТК КАМАЗ                          893\n",
       "ТОО \"Eurasia Motor Zhaik\"          15\n",
       "УзАвто-Kazakstan                  152\n",
       "Хино Моторс Kazakstan              39\n",
       "Name: month, dtype: int64"
      ]
     },
     "execution_count": 39,
     "metadata": {},
     "output_type": "execute_result"
    }
   ],
   "source": [
    "data.groupby('company')['month'].count()"
   ]
  },
  {
   "cell_type": "markdown",
   "id": "9c3d880a",
   "metadata": {
    "id": "9c3d880a"
   },
   "source": [
    "### Brand"
   ]
  },
  {
   "cell_type": "markdown",
   "id": "9f0ea69e",
   "metadata": {
    "id": "9f0ea69e"
   },
   "source": [
    "Artifacts or missing values not found."
   ]
  },
  {
   "cell_type": "code",
   "execution_count": 40,
   "id": "5eb30baf",
   "metadata": {
    "id": "5eb30baf",
    "outputId": "20f6b51d-1b56-44c0-f939-b0bc1ab8559b",
    "scrolled": true
   },
   "outputs": [
    {
     "data": {
      "text/plain": [
       "brand\n",
       "ANKAI                     300\n",
       "Audi                       52\n",
       "BMW                       209\n",
       "Cadillac                   72\n",
       "Chevrolet                 635\n",
       "Daewoo                     10\n",
       "Dong Feng                  10\n",
       "Ford                        3\n",
       "Foton                      28\n",
       "GAZ                      1821\n",
       "Hino                       41\n",
       "Hyundai                 10168\n",
       "Hyundai Truck & Bus       155\n",
       "Infiniti                   96\n",
       "Isuzu                     198\n",
       "Iveco                      25\n",
       "Jac                      1991\n",
       "Jaguar                     36\n",
       "KAMAZ                     892\n",
       "Kia                       832\n",
       "Lada                     1969\n",
       "Land Rover                135\n",
       "Lexus                    1206\n",
       "Lifan                     233\n",
       "MAN                        11\n",
       "Mazda                     112\n",
       "Mercedes-Benz              94\n",
       "Mercedes-Benz Trucks       24\n",
       "Mini                       15\n",
       "Mitsubishi                410\n",
       "Nefaz                       1\n",
       "Nissan                   1053\n",
       "Peugeot                    29\n",
       "Porsche                    52\n",
       "Ravon                    1794\n",
       "Renault                  1796\n",
       "Scania                     12\n",
       "Shacman                    43\n",
       "Skoda                     379\n",
       "Subaru                    504\n",
       "Toyota                  10745\n",
       "UAZ                       927\n",
       "Volkswagen                750\n",
       "Volvo                      42\n",
       "Yutong                     44\n",
       "Урал                       12\n",
       "Name: month, dtype: int64"
      ]
     },
     "execution_count": 40,
     "metadata": {},
     "output_type": "execute_result"
    }
   ],
   "source": [
    "data.groupby('brand')['month'].agg('count')"
   ]
  },
  {
   "cell_type": "markdown",
   "id": "8c8f1ac4",
   "metadata": {
    "id": "8c8f1ac4"
   },
   "source": [
    "#### Model"
   ]
  },
  {
   "cell_type": "markdown",
   "id": "982119a2",
   "metadata": {
    "id": "982119a2"
   },
   "source": [
    "Artifacts or missing values not found."
   ]
  },
  {
   "cell_type": "code",
   "execution_count": 41,
   "id": "afa2d0a6",
   "metadata": {
    "id": "afa2d0a6",
    "outputId": "ff819ba0-ed8c-4a9a-b78d-e0d87d2dc198",
    "scrolled": true
   },
   "outputs": [
    {
     "data": {
      "text/plain": [
       "Camry      4853\n",
       "Tucson     3271\n",
       "Accent     2211\n",
       "Elantra    2062\n",
       "Creta      1775\n",
       "           ... \n",
       "F-Type        1\n",
       "XE            1\n",
       "iev           1\n",
       "4311          1\n",
       "RS5           1\n",
       "Name: model, Length: 273, dtype: int64"
      ]
     },
     "execution_count": 41,
     "metadata": {},
     "output_type": "execute_result"
    }
   ],
   "source": [
    "data['model'].value_counts()"
   ]
  },
  {
   "cell_type": "markdown",
   "id": "13319180",
   "metadata": {
    "id": "13319180"
   },
   "source": [
    "#### Modification"
   ]
  },
  {
   "cell_type": "markdown",
   "id": "02f195fd",
   "metadata": {
    "id": "02f195fd"
   },
   "source": [
    "\"The column modification contains many missing values. It's not possible to fill these missing values based on indirect data. As a result, the modification column will not participate in the analysis. It's acceptable to leave NaN (missing) values as they are. Perhaps this data will be useful later."
   ]
  },
  {
   "cell_type": "code",
   "execution_count": 42,
   "id": "98131aa2",
   "metadata": {
    "scrolled": true
   },
   "outputs": [
    {
     "data": {
      "text/plain": [
       "3591"
      ]
     },
     "execution_count": 42,
     "metadata": {},
     "output_type": "execute_result"
    }
   ],
   "source": [
    "data['modification'].isna().sum() # quantity of nan"
   ]
  },
  {
   "cell_type": "code",
   "execution_count": 43,
   "id": "e3974052",
   "metadata": {
    "id": "e3974052",
    "outputId": "715286d6-ff04-4a57-e254-7baca9a1dd56"
   },
   "outputs": [
    {
     "data": {
      "text/plain": [
       "B5                                  1470\n",
       "BX                                  1210\n",
       "54                                  1007\n",
       "Hyundai Elantra AD FL Active         764\n",
       "Luxury 1.6 MT                        744\n",
       "                                    ... \n",
       "GAZ ГАЗ-330252-750 грузововй 1,5       1\n",
       "GAZ  СемАЗ 330202 грузовой 1,5т        1\n",
       "GAZ  СемАЗ 330232 грузовой 1,5т        1\n",
       "GAZ ГАЗ-322173-753 грузовой 1,5т       1\n",
       "SUT16PA5RB                             1\n",
       "Name: modification, Length: 1383, dtype: int64"
      ]
     },
     "execution_count": 43,
     "metadata": {},
     "output_type": "execute_result"
    }
   ],
   "source": [
    "data['modification'].value_counts()"
   ]
  },
  {
   "cell_type": "markdown",
   "id": "d8922080",
   "metadata": {
    "id": "d8922080"
   },
   "source": [
    "### Year of manufacture"
   ]
  },
  {
   "cell_type": "markdown",
   "id": "c9b87974",
   "metadata": {
    "id": "c9b87974"
   },
   "source": [
    "The year of manufacture contains a non-breaking space '\\xa0'. Let's replace it."
   ]
  },
  {
   "cell_type": "code",
   "execution_count": 44,
   "id": "8fff04ac",
   "metadata": {
    "id": "8fff04ac"
   },
   "outputs": [],
   "source": [
    "data['year_of_manufacture'] = data['year_of_manufacture'].str.strip()\n",
    "data['year_of_manufacture'] = data['year_of_manufacture'].replace({'\\xa0':''}, regex = True)"
   ]
  },
  {
   "cell_type": "code",
   "execution_count": 45,
   "id": "55ac43d9",
   "metadata": {
    "id": "55ac43d9",
    "outputId": "16e5316c-d1d1-4568-c9ed-6156768382cb",
    "scrolled": true
   },
   "outputs": [
    {
     "data": {
      "text/plain": [
       "2019    30026\n",
       "2018     9081\n",
       "2017      324\n",
       "2016       30\n",
       "2014        2\n",
       "2013        1\n",
       "2011        1\n",
       "Name: year_of_manufacture, dtype: int64"
      ]
     },
     "execution_count": 45,
     "metadata": {},
     "output_type": "execute_result"
    }
   ],
   "source": [
    "data['year_of_manufacture'].value_counts()"
   ]
  },
  {
   "cell_type": "markdown",
   "id": "4edc7f66",
   "metadata": {
    "id": "4edc7f66"
   },
   "source": [
    "### Country of manufacture"
   ]
  },
  {
   "cell_type": "markdown",
   "id": "917658b9",
   "metadata": {},
   "source": [
    "Artifacts or missing values not found."
   ]
  },
  {
   "cell_type": "code",
   "execution_count": 46,
   "id": "6f8c35e7",
   "metadata": {
    "id": "6f8c35e7"
   },
   "outputs": [],
   "source": [
    "#data['country_of_manufacture'].value_counts()"
   ]
  },
  {
   "cell_type": "markdown",
   "id": "bf00bb27",
   "metadata": {
    "id": "bf00bb27"
   },
   "source": [
    "### Type of fuel"
   ]
  },
  {
   "cell_type": "markdown",
   "id": "0f6ddf42",
   "metadata": {
    "id": "0f6ddf42"
   },
   "source": [
    "The information about the type of fuel is filled inconsistently; let's bring it to a uniform format."
   ]
  },
  {
   "cell_type": "code",
   "execution_count": 47,
   "id": "21ba87a4",
   "metadata": {
    "id": "21ba87a4"
   },
   "outputs": [],
   "source": [
    "data['type_of_fuel'] = data['type_of_fuel'].str.strip() #removing extra spaces\n",
    "data['type_of_fuel'] = data['type_of_fuel'].str.lower()\n",
    "data['type_of_fuel'] = data['type_of_fuel'].replace({'электро':'электричество'})"
   ]
  },
  {
   "cell_type": "code",
   "execution_count": 48,
   "id": "f1f4a1a0",
   "metadata": {
    "id": "f1f4a1a0"
   },
   "outputs": [],
   "source": [
    "shift_data = data.query('type_of_fuel == \"2\" or type_of_fuel == \"1,6\" or type_of_fuel == \"0\"')\n",
    "#display(shift_data)"
   ]
  },
  {
   "cell_type": "markdown",
   "id": "fd6ec43d",
   "metadata": {
    "id": "fd6ec43d"
   },
   "source": [
    "As a result of data processing, a shift was detected in the 'type_of_fuel' column where data from 'engine_volume_l' ended up, and in the 'engine_volume_l' data, there were values from 'gearbox'. Let's shift these cells to the left to restore the data."
   ]
  },
  {
   "cell_type": "code",
   "execution_count": 49,
   "id": "68fc19ea",
   "metadata": {
    "id": "68fc19ea"
   },
   "outputs": [],
   "source": [
    "for index, row in data.iterrows():\n",
    "    if row['type_of_fuel'] == \"2\" or row['type_of_fuel'] == \"1,6\"  or row['type_of_fuel'] == \"0\":\n",
    "        data.at[index, 'gearbox'] = row['engine_volume_l']\n",
    "        data.at[index, 'engine_volume_l'] = row['type_of_fuel']\n",
    "        data.at[index, 'type_of_fuel'] = np.nan\n"
   ]
  },
  {
   "cell_type": "code",
   "execution_count": 50,
   "id": "1a1f5ec0",
   "metadata": {
    "id": "1a1f5ec0",
    "outputId": "12b8a5bf-0ddb-4e47-8095-7ee710810fa4"
   },
   "outputs": [
    {
     "data": {
      "text/html": [
       "<div>\n",
       "<style scoped>\n",
       "    .dataframe tbody tr th:only-of-type {\n",
       "        vertical-align: middle;\n",
       "    }\n",
       "\n",
       "    .dataframe tbody tr th {\n",
       "        vertical-align: top;\n",
       "    }\n",
       "\n",
       "    .dataframe thead th {\n",
       "        text-align: right;\n",
       "    }\n",
       "</style>\n",
       "<table border=\"1\" class=\"dataframe\">\n",
       "  <thead>\n",
       "    <tr style=\"text-align: right;\">\n",
       "      <th></th>\n",
       "      <th>year</th>\n",
       "      <th>month</th>\n",
       "      <th>company</th>\n",
       "      <th>brand</th>\n",
       "      <th>model</th>\n",
       "      <th>modification</th>\n",
       "      <th>year_of_manufacture</th>\n",
       "      <th>country_of_manufacture</th>\n",
       "      <th>type_of_fuel</th>\n",
       "      <th>engine_volume_l</th>\n",
       "      <th>...</th>\n",
       "      <th>dealership_name</th>\n",
       "      <th>client_type</th>\n",
       "      <th>quantity</th>\n",
       "      <th>price_usd</th>\n",
       "      <th>sale_usd</th>\n",
       "      <th>area</th>\n",
       "      <th>segmentation_2013</th>\n",
       "      <th>class_2013</th>\n",
       "      <th>segmentation_eng</th>\n",
       "      <th>month_num</th>\n",
       "    </tr>\n",
       "  </thead>\n",
       "  <tbody>\n",
       "  </tbody>\n",
       "</table>\n",
       "<p>0 rows × 23 columns</p>\n",
       "</div>"
      ],
      "text/plain": [
       "Empty DataFrame\n",
       "Columns: [year, month, company, brand, model, modification, year_of_manufacture, country_of_manufacture, type_of_fuel, engine_volume_l, gearbox, drive_type, region, dealership_name, client_type, quantity, price_usd, sale_usd, area, segmentation_2013, class_2013, segmentation_eng, month_num]\n",
       "Index: []\n",
       "\n",
       "[0 rows x 23 columns]"
      ]
     },
     "metadata": {},
     "output_type": "display_data"
    }
   ],
   "source": [
    "shift_data = data.query('type_of_fuel == \"2\" or type_of_fuel == \"1,6\" or type_of_fuel == \"0\"')\n",
    "display(shift_data) # the shift was completed successfully"
   ]
  },
  {
   "cell_type": "code",
   "execution_count": 51,
   "id": "9c39a459",
   "metadata": {
    "id": "9c39a459",
    "outputId": "16ff0db6-7422-4f82-bfc5-cef9754eee43",
    "scrolled": false
   },
   "outputs": [
    {
     "data": {
      "text/plain": [
       "бензин           34960\n",
       "nan               3140\n",
       "дизель            1803\n",
       "электричество       13\n",
       "гибрид              10\n",
       "Name: type_of_fuel, dtype: int64"
      ]
     },
     "execution_count": 51,
     "metadata": {},
     "output_type": "execute_result"
    }
   ],
   "source": [
    "data['type_of_fuel'].value_counts()\n"
   ]
  },
  {
   "cell_type": "markdown",
   "id": "67e7cac9",
   "metadata": {
    "id": "67e7cac9"
   },
   "source": [
    "We will fill in the missing values in the 'type_of_fuel' column based on the car modifications. For some modifications where information could not be found, they will be deleted."
   ]
  },
  {
   "cell_type": "code",
   "execution_count": 52,
   "id": "188f5561",
   "metadata": {
    "id": "188f5561"
   },
   "outputs": [],
   "source": [
    "# data[data['type_of_fuel']=='2']\n",
    "modif = ['E2GB4AG','E2GB4AGA','E1FB4AGA', 'E1FB4AG', 'E2PGB4AGA', 'E1FB4JA', 'E1FB2JA', 'SXP16K5RB']\n",
    "for e in modif:\n",
    "    data.loc[data['modification']== e,'type_of_fuel'] = 'бензин'\n",
    "\n",
    "delet = ['SXP16PA5RB', 'E0DB2JA','SUT16PA5RB', '3741', ]\n",
    "\n",
    "#data = data[-data['modification'].isin(delet)]"
   ]
  },
  {
   "cell_type": "markdown",
   "id": "4c8b728a",
   "metadata": {
    "id": "4c8b728a"
   },
   "source": [
    "Остальные значения востановим по косвенным признакам, например по модификации автомобиля, там где модификация не определена возьмем моду по моделе."
   ]
  },
  {
   "cell_type": "code",
   "execution_count": 53,
   "id": "b8b47ec1",
   "metadata": {
    "id": "b8b47ec1"
   },
   "outputs": [],
   "source": [
    "for t in data['modification'].unique():\n",
    "    data.loc[(data['modification'] == t) & (data['type_of_fuel']=='nan'), 'type_of_fuel'] = \\\n",
    "    data.loc[(data['modification'] == t), 'type_of_fuel'].mode()"
   ]
  },
  {
   "cell_type": "code",
   "execution_count": 54,
   "id": "f80a9202",
   "metadata": {
    "id": "f80a9202"
   },
   "outputs": [],
   "source": [
    "for t in data['model'].unique():\n",
    "    data.loc[(data['model'] == t) & (data['type_of_fuel']=='nan'), 'type_of_fuel'] = \\\n",
    "    data.loc[(data['model'] == t), 'type_of_fuel'].mode()"
   ]
  },
  {
   "cell_type": "code",
   "execution_count": 55,
   "id": "7c6721e6",
   "metadata": {
    "id": "7c6721e6",
    "outputId": "7dc0d6a1-6a32-4548-d521-2f3bab184a27",
    "scrolled": false
   },
   "outputs": [
    {
     "data": {
      "text/html": [
       "<div>\n",
       "<style scoped>\n",
       "    .dataframe tbody tr th:only-of-type {\n",
       "        vertical-align: middle;\n",
       "    }\n",
       "\n",
       "    .dataframe tbody tr th {\n",
       "        vertical-align: top;\n",
       "    }\n",
       "\n",
       "    .dataframe thead th {\n",
       "        text-align: right;\n",
       "    }\n",
       "</style>\n",
       "<table border=\"1\" class=\"dataframe\">\n",
       "  <thead>\n",
       "    <tr style=\"text-align: right;\">\n",
       "      <th></th>\n",
       "      <th>year</th>\n",
       "      <th>month</th>\n",
       "      <th>company</th>\n",
       "      <th>brand</th>\n",
       "      <th>model</th>\n",
       "      <th>modification</th>\n",
       "      <th>year_of_manufacture</th>\n",
       "      <th>country_of_manufacture</th>\n",
       "      <th>type_of_fuel</th>\n",
       "      <th>engine_volume_l</th>\n",
       "      <th>...</th>\n",
       "      <th>dealership_name</th>\n",
       "      <th>client_type</th>\n",
       "      <th>quantity</th>\n",
       "      <th>price_usd</th>\n",
       "      <th>sale_usd</th>\n",
       "      <th>area</th>\n",
       "      <th>segmentation_2013</th>\n",
       "      <th>class_2013</th>\n",
       "      <th>segmentation_eng</th>\n",
       "      <th>month_num</th>\n",
       "    </tr>\n",
       "  </thead>\n",
       "  <tbody>\n",
       "  </tbody>\n",
       "</table>\n",
       "<p>0 rows × 23 columns</p>\n",
       "</div>"
      ],
      "text/plain": [
       "Empty DataFrame\n",
       "Columns: [year, month, company, brand, model, modification, year_of_manufacture, country_of_manufacture, type_of_fuel, engine_volume_l, gearbox, drive_type, region, dealership_name, client_type, quantity, price_usd, sale_usd, area, segmentation_2013, class_2013, segmentation_eng, month_num]\n",
       "Index: []\n",
       "\n",
       "[0 rows x 23 columns]"
      ]
     },
     "execution_count": 55,
     "metadata": {},
     "output_type": "execute_result"
    }
   ],
   "source": [
    "data[data['type_of_fuel']=='nan']\n",
    "# There are no missing values"
   ]
  },
  {
   "cell_type": "code",
   "execution_count": 56,
   "id": "2fc56305",
   "metadata": {},
   "outputs": [],
   "source": [
    "fuel_translator = {\n",
    "    'бензин': 'gasoline',\n",
    "    'дизель' : 'diesel',\n",
    "    'электричество': 'electricity', \n",
    "    'гибрид' : 'hybrid',\n",
    "    }\n",
    "data['type_of_fuel'] = data['type_of_fuel'].map(fuel_translator)"
   ]
  },
  {
   "cell_type": "code",
   "execution_count": 57,
   "id": "b6a706b9",
   "metadata": {
    "id": "b6a706b9",
    "outputId": "7fc4e802-4c1a-4d27-d437-9b7e7aa07b54",
    "scrolled": true
   },
   "outputs": [
    {
     "data": {
      "text/plain": [
       "gasoline       35064\n",
       "diesel          1803\n",
       "electricity       13\n",
       "hybrid            10\n",
       "Name: type_of_fuel, dtype: int64"
      ]
     },
     "execution_count": 57,
     "metadata": {},
     "output_type": "execute_result"
    }
   ],
   "source": [
    "data['type_of_fuel'].value_counts()\n",
    "#data.loc[data['modification']=='3741']"
   ]
  },
  {
   "cell_type": "code",
   "execution_count": 58,
   "id": "d0749c12",
   "metadata": {
    "id": "d0749c12",
    "outputId": "30c4a642-034b-434c-e78e-b113d2f7f9f4",
    "scrolled": true
   },
   "outputs": [
    {
     "data": {
      "image/png": "[encoded data removed]",
      "text/plain": [
       "<Figure size 640x480 with 1 Axes>"
      ]
     },
     "metadata": {},
     "output_type": "display_data"
    }
   ],
   "source": [
    "data['type_of_fuel'].hist()\n",
    "plt.xlabel('Type of fuel')\n",
    "plt.ylabel('Quantity')\n",
    "plt.title('Type of fuel distribution')\n",
    "\n",
    "plt.show()"
   ]
  },
  {
   "cell_type": "markdown",
   "id": "a97f8b26",
   "metadata": {},
   "source": [
    "The moust of cars have gasoline type of fuel."
   ]
  },
  {
   "cell_type": "markdown",
   "id": "1bfffb0a",
   "metadata": {
    "id": "1bfffb0a"
   },
   "source": [
    "### Еngine volume"
   ]
  },
  {
   "cell_type": "code",
   "execution_count": 59,
   "id": "43eb61e5",
   "metadata": {
    "id": "43eb61e5",
    "outputId": "e9510b5b-84fe-43e5-89c9-a273559a2894"
   },
   "outputs": [
    {
     "data": {
      "text/plain": [
       "1,6    5351\n",
       "2      5120\n",
       "2,7    3394\n",
       "2.5    2641\n",
       "2,5    2385\n",
       "Name: engine_volume_l, dtype: int64"
      ]
     },
     "execution_count": 59,
     "metadata": {},
     "output_type": "execute_result"
    }
   ],
   "source": [
    "data['engine_volume_l'].value_counts().head()"
   ]
  },
  {
   "cell_type": "code",
   "execution_count": 60,
   "id": "397e3963",
   "metadata": {
    "id": "397e3963",
    "scrolled": false
   },
   "outputs": [],
   "source": [
    "data['engine_volume_l'] = data['engine_volume_l'].str.replace(',','.')\n",
    "# remove all characters except digits.\n",
    "data[\"engine_volume_l\"] = data[\"engine_volume_l\"].str.replace(r\"[^\\d\\.]\", \"\", regex=True)\n",
    "# removing extra spaces\n",
    "data['engine_volume_l'] = data['engine_volume_l'].str.strip()\n",
    "# removing extra points\n",
    "data['engine_volume_l'] = data['engine_volume_l'].str.replace('\\.$', '', regex=True)\n",
    "\n",
    "# перевод формата данных\n",
    "#data['engine_volume_l'] = data['engine_volume_l'].astype(float)\n"
   ]
  },
  {
   "cell_type": "code",
   "execution_count": 61,
   "id": "cc0b0d58",
   "metadata": {
    "id": "cc0b0d58"
   },
   "outputs": [],
   "source": [
    "data['engine_volume_l'] = data['engine_volume_l'].str.strip()"
   ]
  },
  {
   "cell_type": "markdown",
   "id": "3dbf5efe",
   "metadata": {
    "id": "3dbf5efe"
   },
   "source": [
    "There is no engine volume information available for 38 rows. A closer examination reveals that these entries correspond to three specific car models: Renault Duster, Toyota Corolla, and Toyota Hilux DC. According to internet sources, the engine volume for Renault Duster ranges from 1.3 to 2.0 liters, for Toyota Hilux DC it is 2.982 liters, and for Toyota Corolla it ranges from 1.1 to 2.4 liter"
   ]
  },
  {
   "cell_type": "code",
   "execution_count": 62,
   "id": "ba32ec47",
   "metadata": {
    "id": "ba32ec47",
    "scrolled": true
   },
   "outputs": [],
   "source": [
    "data.loc[(data['model'] == 'Duster') & (data['engine_volume_l'].isna()), 'engine_volume_l'] = 2\n",
    "data.loc[(data['model'] == 'Duster') & (data['type_of_fuel'].isna()), 'type_of_fuel'] = 'gasoline'\n",
    "\n",
    "data.loc[31148:31149, 'engine_volume_l'] = 2\n",
    "data.loc[32670, 'engine_volume_l'] = 2.982\n",
    "data.loc[33070, 'engine_volume_l'] = 2.982\n"
   ]
  },
  {
   "cell_type": "code",
   "execution_count": 63,
   "id": "743e9de6",
   "metadata": {
    "id": "743e9de6"
   },
   "outputs": [],
   "source": [
    "#data.loc[data['model'] == 'HILUX DC']"
   ]
  },
  {
   "cell_type": "code",
   "execution_count": 64,
   "id": "3608e9ab",
   "metadata": {
    "id": "3608e9ab"
   },
   "outputs": [],
   "source": [
    "# data.loc[data['engine_volume_l'] == '', 'engine_volume_l'] = np.nan\n",
    "data['engine_volume_l'] = data['engine_volume_l'].astype(float)"
   ]
  },
  {
   "cell_type": "markdown",
   "id": "2ff0adb2",
   "metadata": {
    "id": "2ff0adb2"
   },
   "source": [
    "The engine volume can't be bigger than 15 liters. Let's check which models exceed this criteria."
   ]
  },
  {
   "cell_type": "code",
   "execution_count": 65,
   "id": "02c5f27e",
   "metadata": {
    "id": "02c5f27e",
    "scrolled": true
   },
   "outputs": [],
   "source": [
    "Niva_mode = data[data['model'] == 'Niva']\n",
    "#print(Niva_mode['engine_volume_l'].mode())\n",
    "#print(Niva_mode['engine_volume_l'].value_counts())\n",
    "\n",
    "data.loc[data['model'] == '4x4', 'model']= 'Niva'\n",
    "data.loc[data['model'] == 'Niva', 'engine_volume_l']= 1.7"
   ]
  },
  {
   "cell_type": "markdown",
   "id": "e6f906e6",
   "metadata": {
    "id": "e6f906e6"
   },
   "source": [
    "An error was found for the 'Niva' model; let's change it to 1.7.\n",
    "All models with engine volumes exceeding 15 liters are electric cars. They will be classified into a special group through categorization."
   ]
  },
  {
   "cell_type": "code",
   "execution_count": 66,
   "id": "ac0e7f10",
   "metadata": {
    "id": "ac0e7f10",
    "outputId": "18713e7e-3f6a-4e97-82fc-27848acc5399",
    "scrolled": true
   },
   "outputs": [
    {
     "data": {
      "text/html": [
       "<div>\n",
       "<style scoped>\n",
       "    .dataframe tbody tr th:only-of-type {\n",
       "        vertical-align: middle;\n",
       "    }\n",
       "\n",
       "    .dataframe tbody tr th {\n",
       "        vertical-align: top;\n",
       "    }\n",
       "\n",
       "    .dataframe thead th {\n",
       "        text-align: right;\n",
       "    }\n",
       "</style>\n",
       "<table border=\"1\" class=\"dataframe\">\n",
       "  <thead>\n",
       "    <tr style=\"text-align: right;\">\n",
       "      <th></th>\n",
       "      <th>year</th>\n",
       "      <th>month</th>\n",
       "      <th>company</th>\n",
       "      <th>brand</th>\n",
       "      <th>model</th>\n",
       "      <th>modification</th>\n",
       "      <th>year_of_manufacture</th>\n",
       "      <th>country_of_manufacture</th>\n",
       "      <th>type_of_fuel</th>\n",
       "      <th>engine_volume_l</th>\n",
       "      <th>...</th>\n",
       "      <th>dealership_name</th>\n",
       "      <th>client_type</th>\n",
       "      <th>quantity</th>\n",
       "      <th>price_usd</th>\n",
       "      <th>sale_usd</th>\n",
       "      <th>area</th>\n",
       "      <th>segmentation_2013</th>\n",
       "      <th>class_2013</th>\n",
       "      <th>segmentation_eng</th>\n",
       "      <th>month_num</th>\n",
       "    </tr>\n",
       "  </thead>\n",
       "  <tbody>\n",
       "    <tr>\n",
       "      <th>39544</th>\n",
       "      <td>2019</td>\n",
       "      <td>Февраль</td>\n",
       "      <td>Almaty Motors Premium</td>\n",
       "      <td>Jaguar</td>\n",
       "      <td>I-Pace</td>\n",
       "      <td>ЭЛЕКТРОКАР</td>\n",
       "      <td>2019</td>\n",
       "      <td>UK</td>\n",
       "      <td>electricity</td>\n",
       "      <td>400.0</td>\n",
       "      <td>...</td>\n",
       "      <td>Almaty Motors Premium</td>\n",
       "      <td>Физ. Лицо</td>\n",
       "      <td>1.0</td>\n",
       "      <td>117236.97</td>\n",
       "      <td>117236.97</td>\n",
       "      <td>г.Алматы</td>\n",
       "      <td>Внедорожники</td>\n",
       "      <td>Компактные SUV</td>\n",
       "      <td>K1</td>\n",
       "      <td>2</td>\n",
       "    </tr>\n",
       "    <tr>\n",
       "      <th>39545</th>\n",
       "      <td>2019</td>\n",
       "      <td>Апрель</td>\n",
       "      <td>Almaty Motors Premium</td>\n",
       "      <td>Jaguar</td>\n",
       "      <td>I-Pace</td>\n",
       "      <td>ЭЛЕКТРОКАР</td>\n",
       "      <td>2019</td>\n",
       "      <td>UK</td>\n",
       "      <td>electricity</td>\n",
       "      <td>400.0</td>\n",
       "      <td>...</td>\n",
       "      <td>Almaty Motors Premium</td>\n",
       "      <td>Физ. Лицо</td>\n",
       "      <td>1.0</td>\n",
       "      <td>105388.79</td>\n",
       "      <td>105388.79</td>\n",
       "      <td>г.Алматы</td>\n",
       "      <td>Внедорожники</td>\n",
       "      <td>Компактные SUV</td>\n",
       "      <td>K1</td>\n",
       "      <td>4</td>\n",
       "    </tr>\n",
       "    <tr>\n",
       "      <th>39546</th>\n",
       "      <td>2019</td>\n",
       "      <td>Июнь</td>\n",
       "      <td>Almaty Motors Premium</td>\n",
       "      <td>Jaguar</td>\n",
       "      <td>I-Pace</td>\n",
       "      <td>ЭЛЕКТРОКАР</td>\n",
       "      <td>2019</td>\n",
       "      <td>UK</td>\n",
       "      <td>electricity</td>\n",
       "      <td>400.0</td>\n",
       "      <td>...</td>\n",
       "      <td>Almaty Motors Premium</td>\n",
       "      <td>Юр. Лицо</td>\n",
       "      <td>1.0</td>\n",
       "      <td>120413.28</td>\n",
       "      <td>120413.28</td>\n",
       "      <td>г.Алматы</td>\n",
       "      <td>Внедорожники</td>\n",
       "      <td>Компактные SUV</td>\n",
       "      <td>K1</td>\n",
       "      <td>6</td>\n",
       "    </tr>\n",
       "    <tr>\n",
       "      <th>39818</th>\n",
       "      <td>2019</td>\n",
       "      <td>Июль</td>\n",
       "      <td>Allur Auto</td>\n",
       "      <td>ANKAI</td>\n",
       "      <td>HFF6124G03EV3</td>\n",
       "      <td>Bus</td>\n",
       "      <td>2019</td>\n",
       "      <td>Республика Казахстан</td>\n",
       "      <td>electricity</td>\n",
       "      <td>88.0</td>\n",
       "      <td>...</td>\n",
       "      <td>Allur Auto Almaty</td>\n",
       "      <td>Юр. Лицо</td>\n",
       "      <td>1.0</td>\n",
       "      <td>307986.36</td>\n",
       "      <td>307986.36</td>\n",
       "      <td>Костанайская область</td>\n",
       "      <td>Коммерческие автомобили</td>\n",
       "      <td>Большие автобусы</td>\n",
       "      <td>O</td>\n",
       "      <td>7</td>\n",
       "    </tr>\n",
       "    <tr>\n",
       "      <th>39819</th>\n",
       "      <td>2019</td>\n",
       "      <td>Июль</td>\n",
       "      <td>Allur Auto</td>\n",
       "      <td>ANKAI</td>\n",
       "      <td>HFF6124G03EV3</td>\n",
       "      <td>Bus</td>\n",
       "      <td>2019</td>\n",
       "      <td>Республика Казахстан</td>\n",
       "      <td>electricity</td>\n",
       "      <td>88.0</td>\n",
       "      <td>...</td>\n",
       "      <td>Allur Auto Almaty</td>\n",
       "      <td>Юр. Лицо</td>\n",
       "      <td>1.0</td>\n",
       "      <td>307986.36</td>\n",
       "      <td>307986.36</td>\n",
       "      <td>Костанайская область</td>\n",
       "      <td>Коммерческие автомобили</td>\n",
       "      <td>Большие автобусы</td>\n",
       "      <td>O</td>\n",
       "      <td>7</td>\n",
       "    </tr>\n",
       "    <tr>\n",
       "      <th>39820</th>\n",
       "      <td>2019</td>\n",
       "      <td>Июль</td>\n",
       "      <td>Allur Auto</td>\n",
       "      <td>ANKAI</td>\n",
       "      <td>HFF6124G03EV3</td>\n",
       "      <td>Bus</td>\n",
       "      <td>2019</td>\n",
       "      <td>Республика Казахстан</td>\n",
       "      <td>electricity</td>\n",
       "      <td>88.0</td>\n",
       "      <td>...</td>\n",
       "      <td>Allur Auto Almaty</td>\n",
       "      <td>Юр. Лицо</td>\n",
       "      <td>1.0</td>\n",
       "      <td>307986.36</td>\n",
       "      <td>307986.36</td>\n",
       "      <td>Костанайская область</td>\n",
       "      <td>Коммерческие автомобили</td>\n",
       "      <td>Большие автобусы</td>\n",
       "      <td>O</td>\n",
       "      <td>7</td>\n",
       "    </tr>\n",
       "    <tr>\n",
       "      <th>39821</th>\n",
       "      <td>2019</td>\n",
       "      <td>Июль</td>\n",
       "      <td>Allur Auto</td>\n",
       "      <td>ANKAI</td>\n",
       "      <td>HFF6124G03EV3</td>\n",
       "      <td>Bus</td>\n",
       "      <td>2019</td>\n",
       "      <td>Республика Казахстан</td>\n",
       "      <td>electricity</td>\n",
       "      <td>88.0</td>\n",
       "      <td>...</td>\n",
       "      <td>Allur Auto Almaty</td>\n",
       "      <td>Юр. Лицо</td>\n",
       "      <td>1.0</td>\n",
       "      <td>307986.36</td>\n",
       "      <td>307986.36</td>\n",
       "      <td>Костанайская область</td>\n",
       "      <td>Коммерческие автомобили</td>\n",
       "      <td>Большие автобусы</td>\n",
       "      <td>O</td>\n",
       "      <td>7</td>\n",
       "    </tr>\n",
       "    <tr>\n",
       "      <th>39822</th>\n",
       "      <td>2019</td>\n",
       "      <td>Июль</td>\n",
       "      <td>Allur Auto</td>\n",
       "      <td>ANKAI</td>\n",
       "      <td>HFF6124G03EV3</td>\n",
       "      <td>Bus</td>\n",
       "      <td>2019</td>\n",
       "      <td>Республика Казахстан</td>\n",
       "      <td>electricity</td>\n",
       "      <td>88.0</td>\n",
       "      <td>...</td>\n",
       "      <td>Allur Auto Almaty</td>\n",
       "      <td>Юр. Лицо</td>\n",
       "      <td>1.0</td>\n",
       "      <td>307986.36</td>\n",
       "      <td>307986.36</td>\n",
       "      <td>Костанайская область</td>\n",
       "      <td>Коммерческие автомобили</td>\n",
       "      <td>Большие автобусы</td>\n",
       "      <td>O</td>\n",
       "      <td>7</td>\n",
       "    </tr>\n",
       "    <tr>\n",
       "      <th>39823</th>\n",
       "      <td>2019</td>\n",
       "      <td>Июль</td>\n",
       "      <td>Allur Auto</td>\n",
       "      <td>ANKAI</td>\n",
       "      <td>HFF6124G03EV3</td>\n",
       "      <td>Bus</td>\n",
       "      <td>2019</td>\n",
       "      <td>Республика Казахстан</td>\n",
       "      <td>electricity</td>\n",
       "      <td>88.0</td>\n",
       "      <td>...</td>\n",
       "      <td>Allur Auto Almaty</td>\n",
       "      <td>Юр. Лицо</td>\n",
       "      <td>1.0</td>\n",
       "      <td>307986.36</td>\n",
       "      <td>307986.36</td>\n",
       "      <td>Костанайская область</td>\n",
       "      <td>Коммерческие автомобили</td>\n",
       "      <td>Большие автобусы</td>\n",
       "      <td>O</td>\n",
       "      <td>7</td>\n",
       "    </tr>\n",
       "    <tr>\n",
       "      <th>39824</th>\n",
       "      <td>2019</td>\n",
       "      <td>Июль</td>\n",
       "      <td>Allur Auto</td>\n",
       "      <td>ANKAI</td>\n",
       "      <td>HFF6124G03EV3</td>\n",
       "      <td>Bus</td>\n",
       "      <td>2019</td>\n",
       "      <td>Республика Казахстан</td>\n",
       "      <td>electricity</td>\n",
       "      <td>88.0</td>\n",
       "      <td>...</td>\n",
       "      <td>Allur Auto Almaty</td>\n",
       "      <td>Юр. Лицо</td>\n",
       "      <td>1.0</td>\n",
       "      <td>307986.36</td>\n",
       "      <td>307986.36</td>\n",
       "      <td>Костанайская область</td>\n",
       "      <td>Коммерческие автомобили</td>\n",
       "      <td>Большие автобусы</td>\n",
       "      <td>O</td>\n",
       "      <td>7</td>\n",
       "    </tr>\n",
       "    <tr>\n",
       "      <th>39825</th>\n",
       "      <td>2019</td>\n",
       "      <td>Июль</td>\n",
       "      <td>Allur Auto</td>\n",
       "      <td>ANKAI</td>\n",
       "      <td>HFF6124G03EV3</td>\n",
       "      <td>Bus</td>\n",
       "      <td>2019</td>\n",
       "      <td>Республика Казахстан</td>\n",
       "      <td>electricity</td>\n",
       "      <td>88.0</td>\n",
       "      <td>...</td>\n",
       "      <td>Allur Auto Almaty</td>\n",
       "      <td>Юр. Лицо</td>\n",
       "      <td>1.0</td>\n",
       "      <td>307986.36</td>\n",
       "      <td>307986.36</td>\n",
       "      <td>Костанайская область</td>\n",
       "      <td>Коммерческие автомобили</td>\n",
       "      <td>Большие автобусы</td>\n",
       "      <td>O</td>\n",
       "      <td>7</td>\n",
       "    </tr>\n",
       "    <tr>\n",
       "      <th>39826</th>\n",
       "      <td>2019</td>\n",
       "      <td>Июль</td>\n",
       "      <td>Allur Auto</td>\n",
       "      <td>ANKAI</td>\n",
       "      <td>HFF6124G03EV3</td>\n",
       "      <td>Bus</td>\n",
       "      <td>2019</td>\n",
       "      <td>Республика Казахстан</td>\n",
       "      <td>electricity</td>\n",
       "      <td>88.0</td>\n",
       "      <td>...</td>\n",
       "      <td>Allur Auto Almaty</td>\n",
       "      <td>Юр. Лицо</td>\n",
       "      <td>1.0</td>\n",
       "      <td>307986.36</td>\n",
       "      <td>307986.36</td>\n",
       "      <td>Костанайская область</td>\n",
       "      <td>Коммерческие автомобили</td>\n",
       "      <td>Большие автобусы</td>\n",
       "      <td>O</td>\n",
       "      <td>7</td>\n",
       "    </tr>\n",
       "    <tr>\n",
       "      <th>39827</th>\n",
       "      <td>2019</td>\n",
       "      <td>Июль</td>\n",
       "      <td>Allur Auto</td>\n",
       "      <td>ANKAI</td>\n",
       "      <td>HFF6124G03EV3</td>\n",
       "      <td>Bus</td>\n",
       "      <td>2019</td>\n",
       "      <td>Республика Казахстан</td>\n",
       "      <td>electricity</td>\n",
       "      <td>88.0</td>\n",
       "      <td>...</td>\n",
       "      <td>Allur Auto Almaty</td>\n",
       "      <td>Юр. Лицо</td>\n",
       "      <td>1.0</td>\n",
       "      <td>307986.36</td>\n",
       "      <td>307986.36</td>\n",
       "      <td>Костанайская область</td>\n",
       "      <td>Коммерческие автомобили</td>\n",
       "      <td>Большие автобусы</td>\n",
       "      <td>O</td>\n",
       "      <td>7</td>\n",
       "    </tr>\n",
       "  </tbody>\n",
       "</table>\n",
       "<p>13 rows × 23 columns</p>\n",
       "</div>"
      ],
      "text/plain": [
       "       year    month                company   brand          model  \\\n",
       "39544  2019  Февраль  Almaty Motors Premium  Jaguar         I-Pace   \n",
       "39545  2019   Апрель  Almaty Motors Premium  Jaguar         I-Pace   \n",
       "39546  2019     Июнь  Almaty Motors Premium  Jaguar         I-Pace   \n",
       "39818  2019     Июль             Allur Auto   ANKAI  HFF6124G03EV3   \n",
       "39819  2019     Июль             Allur Auto   ANKAI  HFF6124G03EV3   \n",
       "39820  2019     Июль             Allur Auto   ANKAI  HFF6124G03EV3   \n",
       "39821  2019     Июль             Allur Auto   ANKAI  HFF6124G03EV3   \n",
       "39822  2019     Июль             Allur Auto   ANKAI  HFF6124G03EV3   \n",
       "39823  2019     Июль             Allur Auto   ANKAI  HFF6124G03EV3   \n",
       "39824  2019     Июль             Allur Auto   ANKAI  HFF6124G03EV3   \n",
       "39825  2019     Июль             Allur Auto   ANKAI  HFF6124G03EV3   \n",
       "39826  2019     Июль             Allur Auto   ANKAI  HFF6124G03EV3   \n",
       "39827  2019     Июль             Allur Auto   ANKAI  HFF6124G03EV3   \n",
       "\n",
       "      modification year_of_manufacture country_of_manufacture type_of_fuel  \\\n",
       "39544   ЭЛЕКТРОКАР                2019                     UK  electricity   \n",
       "39545   ЭЛЕКТРОКАР                2019                     UK  electricity   \n",
       "39546   ЭЛЕКТРОКАР                2019                     UK  electricity   \n",
       "39818          Bus                2019   Республика Казахстан  electricity   \n",
       "39819          Bus                2019   Республика Казахстан  electricity   \n",
       "39820          Bus                2019   Республика Казахстан  electricity   \n",
       "39821          Bus                2019   Республика Казахстан  electricity   \n",
       "39822          Bus                2019   Республика Казахстан  electricity   \n",
       "39823          Bus                2019   Республика Казахстан  electricity   \n",
       "39824          Bus                2019   Республика Казахстан  electricity   \n",
       "39825          Bus                2019   Республика Казахстан  electricity   \n",
       "39826          Bus                2019   Республика Казахстан  electricity   \n",
       "39827          Bus                2019   Республика Казахстан  electricity   \n",
       "\n",
       "       engine_volume_l  ...        dealership_name client_type quantity  \\\n",
       "39544            400.0  ...  Almaty Motors Premium   Физ. Лицо      1.0   \n",
       "39545            400.0  ...  Almaty Motors Premium   Физ. Лицо      1.0   \n",
       "39546            400.0  ...  Almaty Motors Premium    Юр. Лицо      1.0   \n",
       "39818             88.0  ...      Allur Auto Almaty    Юр. Лицо      1.0   \n",
       "39819             88.0  ...      Allur Auto Almaty    Юр. Лицо      1.0   \n",
       "39820             88.0  ...      Allur Auto Almaty    Юр. Лицо      1.0   \n",
       "39821             88.0  ...      Allur Auto Almaty    Юр. Лицо      1.0   \n",
       "39822             88.0  ...      Allur Auto Almaty    Юр. Лицо      1.0   \n",
       "39823             88.0  ...      Allur Auto Almaty    Юр. Лицо      1.0   \n",
       "39824             88.0  ...      Allur Auto Almaty    Юр. Лицо      1.0   \n",
       "39825             88.0  ...      Allur Auto Almaty    Юр. Лицо      1.0   \n",
       "39826             88.0  ...      Allur Auto Almaty    Юр. Лицо      1.0   \n",
       "39827             88.0  ...      Allur Auto Almaty    Юр. Лицо      1.0   \n",
       "\n",
       "       price_usd   sale_usd                  area        segmentation_2013  \\\n",
       "39544  117236.97  117236.97              г.Алматы             Внедорожники   \n",
       "39545  105388.79  105388.79              г.Алматы             Внедорожники   \n",
       "39546  120413.28  120413.28              г.Алматы             Внедорожники   \n",
       "39818  307986.36  307986.36  Костанайская область  Коммерческие автомобили   \n",
       "39819  307986.36  307986.36  Костанайская область  Коммерческие автомобили   \n",
       "39820  307986.36  307986.36  Костанайская область  Коммерческие автомобили   \n",
       "39821  307986.36  307986.36  Костанайская область  Коммерческие автомобили   \n",
       "39822  307986.36  307986.36  Костанайская область  Коммерческие автомобили   \n",
       "39823  307986.36  307986.36  Костанайская область  Коммерческие автомобили   \n",
       "39824  307986.36  307986.36  Костанайская область  Коммерческие автомобили   \n",
       "39825  307986.36  307986.36  Костанайская область  Коммерческие автомобили   \n",
       "39826  307986.36  307986.36  Костанайская область  Коммерческие автомобили   \n",
       "39827  307986.36  307986.36  Костанайская область  Коммерческие автомобили   \n",
       "\n",
       "             class_2013 segmentation_eng month_num  \n",
       "39544    Компактные SUV               K1         2  \n",
       "39545    Компактные SUV               K1         4  \n",
       "39546    Компактные SUV               K1         6  \n",
       "39818  Большие автобусы                O         7  \n",
       "39819  Большие автобусы                O         7  \n",
       "39820  Большие автобусы                O         7  \n",
       "39821  Большие автобусы                O         7  \n",
       "39822  Большие автобусы                O         7  \n",
       "39823  Большие автобусы                O         7  \n",
       "39824  Большие автобусы                O         7  \n",
       "39825  Большие автобусы                O         7  \n",
       "39826  Большие автобусы                O         7  \n",
       "39827  Большие автобусы                O         7  \n",
       "\n",
       "[13 rows x 23 columns]"
      ]
     },
     "execution_count": 66,
     "metadata": {},
     "output_type": "execute_result"
    }
   ],
   "source": [
    "data[data['engine_volume_l'] > 15]"
   ]
  },
  {
   "cell_type": "code",
   "execution_count": 67,
   "id": "1e998f1c",
   "metadata": {
    "id": "1e998f1c",
    "outputId": "b4bf9306-0b53-4f56-8bf9-f04392ba3444",
    "scrolled": true
   },
   "outputs": [
    {
     "data": {
      "text/plain": [
       "2.0    8586\n",
       "1.6    7778\n",
       "2.5    5034\n",
       "2.7    4668\n",
       "1.5    1423\n",
       "Name: engine_volume_l, dtype: int64"
      ]
     },
     "execution_count": 67,
     "metadata": {},
     "output_type": "execute_result"
    }
   ],
   "source": [
    "data['engine_volume_l'].value_counts().head()"
   ]
  },
  {
   "cell_type": "markdown",
   "id": "80f888f4",
   "metadata": {
    "id": "80f888f4"
   },
   "source": [
    "As a result of data preprocessing, all engine volumes have been standardized, except for electric engines, which will be categorized separately category."
   ]
  },
  {
   "cell_type": "markdown",
   "id": "f5184d02",
   "metadata": {
    "id": "f5184d02"
   },
   "source": [
    "#### Engine volume categorization"
   ]
  },
  {
   "cell_type": "code",
   "execution_count": 68,
   "id": "4e3d20e6",
   "metadata": {
    "id": "4e3d20e6"
   },
   "outputs": [],
   "source": [
    "def categories(engine):\n",
    "    if engine < 1.1:\n",
    "        return 'extra_small'\n",
    "    if 1.1 <= engine < 1.8:\n",
    "        return 'small'\n",
    "    if 1.8 <= engine < 3.5:\n",
    "        return 'medium'\n",
    "    if 3.5 <= engine <= 15.0:\n",
    "        return 'large'\n",
    "    if engine > 15.0:\n",
    "        return 'electro'\n"
   ]
  },
  {
   "cell_type": "code",
   "execution_count": 69,
   "id": "69aea3d3",
   "metadata": {
    "id": "69aea3d3"
   },
   "outputs": [],
   "source": [
    "data['engine_category'] = data['engine_volume_l'].apply(categories)"
   ]
  },
  {
   "cell_type": "code",
   "execution_count": 70,
   "id": "d8cf0904",
   "metadata": {
    "id": "d8cf0904",
    "outputId": "47ad0bbb-ba57-429b-b9f3-404d0b67a75c"
   },
   "outputs": [
    {
     "data": {
      "image/png": "[encoded data removed]",
      "text/plain": [
       "<Figure size 640x480 with 1 Axes>"
      ]
     },
     "metadata": {},
     "output_type": "display_data"
    }
   ],
   "source": [
    "data['engine_category'].hist()\n",
    "plt.xlabel('Engine category')\n",
    "plt.ylabel('Quantity')\n",
    "plt.title('Engine category distribution')\n",
    "\n",
    "plt.show()"
   ]
  },
  {
   "cell_type": "markdown",
   "id": "e875258f",
   "metadata": {
    "id": "e875258f"
   },
   "source": [
    "### Gearbox"
   ]
  },
  {
   "cell_type": "code",
   "execution_count": 71,
   "id": "20eec662",
   "metadata": {
    "id": "20eec662"
   },
   "outputs": [],
   "source": [
    "data['gearbox'] = data['gearbox'].str.strip()"
   ]
  },
  {
   "cell_type": "code",
   "execution_count": 72,
   "id": "294320c0",
   "metadata": {
    "id": "294320c0",
    "outputId": "a48e541f-24c0-47a2-db21-39581383d28e",
    "scrolled": false
   },
   "outputs": [
    {
     "data": {
      "text/plain": [
       "array(['S-tronic', 'S-Tronic', 'Tiptronic', 'АКПП', 'АКП', 'Steptronic',\n",
       "       'AT', '6 АТ', '5 МТ', '6АТ', 'MT', '8AT', '5МТ', 'Powershift S6',\n",
       "       '6AT', 'nan', 'Мех.', '6 AT', '6 MT', '6MT', '5 AT', '5AT', 'МКПП',\n",
       "       '7 DCT', '7DCT', '8 AT', 'МТ', 'CVT', 'DCT', '4 АТ', '6 МТ', '6МТ',\n",
       "       '4АТ', '4AT', '8АТ', '8 АТ', '5MT', 'AMT', 'CVT (вариатор)',\n",
       "       'CVT (вариATор)', 'CVT(вAриATор)', '7G-TRONIC', '9G-TRONIC',\n",
       "       '12AT', '12АТ', '5АТ', '7АТ', '7AT', '6M/T', 'PDK', '8-ступ АКПП',\n",
       "       '8', '8АКПП', '8 АКПП Tiptronic S', '7 АКПП (PDK)', '7 АКПП PDK',\n",
       "       '8 АКПП (PDK)', 'АТ', 'АT', 'МT', '0', '7 DSG', '7DSG', '6 DSG',\n",
       "       '6DSG', '#Н/Д', '2,693', 'DSG', '6A', '6А', '5M', 'A/T', 'M/T',\n",
       "       'МКП', '5М', 'М/T', '7 АКП', '7АКП', 'А/T', '8A', 'TDI', '9AT',\n",
       "       'РЕДУКТОР'], dtype=object)"
      ]
     },
     "execution_count": 72,
     "metadata": {},
     "output_type": "execute_result"
    }
   ],
   "source": [
    "data['gearbox'].unique()"
   ]
  },
  {
   "cell_type": "markdown",
   "id": "79dabe7f",
   "metadata": {
    "id": "79dabe7f"
   },
   "source": [
    "The 'gearbox' column contains a lot of inconsistencies. Let's standardize it to ensure uniform values"
   ]
  },
  {
   "cell_type": "code",
   "execution_count": 73,
   "id": "bef62c45",
   "metadata": {
    "id": "bef62c45"
   },
   "outputs": [],
   "source": [
    "def categorize_gearbox(e):\n",
    "    dictionary = {'AT': ['AT', 'A/T', 'АТ', 'АКП', 'DSG', 'А/T', '6A', '6А', '8A', 'АT'],\n",
    "                  'MT': ['MT', 'M/T', 'МТ', 'МКП', 'Мех', 'М/T', 'МT', '5М', '5M'],\n",
    "                  'CVT': ['CVT'],\n",
    "                  'robot': ['DCT', 'ronic', 'TRONIC', 'TDI', 'PDK']}\n",
    "\n",
    "    for category, words in dictionary.items():\n",
    "        for word in words:\n",
    "            if word in e:\n",
    "                return category\n",
    "    return 'Unknown'"
   ]
  },
  {
   "cell_type": "code",
   "execution_count": 74,
   "id": "99e3a48b",
   "metadata": {
    "id": "99e3a48b"
   },
   "outputs": [],
   "source": [
    "data['gearbox'] = data['gearbox'].apply(categorize_gearbox)"
   ]
  },
  {
   "cell_type": "code",
   "execution_count": 75,
   "id": "b1caa63e",
   "metadata": {},
   "outputs": [
    {
     "data": {
      "image/png": "[encoded data removed]",
      "text/plain": [
       "<Figure size 640x480 with 1 Axes>"
      ]
     },
     "metadata": {},
     "output_type": "display_data"
    }
   ],
   "source": [
    "data['gearbox'].hist()\n",
    "\n",
    "plt.xlabel('Gearbox category')\n",
    "plt.ylabel('Quantity')\n",
    "plt.title('Gearbox distribution')\n",
    "\n",
    "plt.show()"
   ]
  },
  {
   "cell_type": "markdown",
   "id": "b5789d7d",
   "metadata": {},
   "source": [
    "For 'Unknown' values, I suggest replacing them with the mode value within the 'model' group for the 'gearbox' column.\""
   ]
  },
  {
   "cell_type": "code",
   "execution_count": 76,
   "id": "f7693e0f",
   "metadata": {
    "id": "f7693e0f"
   },
   "outputs": [],
   "source": [
    "for t in data['model'].unique():\n",
    "    data.loc[(data['model'] == t) & (data['gearbox']=='Unknown'), 'gearbox'] = \\\n",
    "    data.loc[(data['model'] == t), 'gearbox'].mode()"
   ]
  },
  {
   "cell_type": "code",
   "execution_count": 77,
   "id": "1ad67ba9",
   "metadata": {
    "id": "1ad67ba9",
    "outputId": "ecd71762-5ec8-4148-a707-6944abe6a26f"
   },
   "outputs": [
    {
     "data": {
      "text/plain": [
       "AT       24095\n",
       "MT        8817\n",
       "CVT       3562\n",
       "robot      218\n",
       "Name: gearbox, dtype: int64"
      ]
     },
     "execution_count": 77,
     "metadata": {},
     "output_type": "execute_result"
    }
   ],
   "source": [
    "data['gearbox'].value_counts()"
   ]
  },
  {
   "cell_type": "markdown",
   "id": "ea9f7e80",
   "metadata": {
    "id": "ea9f7e80"
   },
   "source": [
    "### Drive type"
   ]
  },
  {
   "cell_type": "markdown",
   "id": "40bf67a9",
   "metadata": {
    "id": "40bf67a9"
   },
   "source": [
    "The 'drive_type' column is also filled inconsistently. Let's standardize the data to ensure uniform values."
   ]
  },
  {
   "cell_type": "code",
   "execution_count": 78,
   "id": "f1b88f05",
   "metadata": {
    "id": "f1b88f05",
    "outputId": "6857d8dd-e44b-4acc-a19a-05a9f793d54c",
    "scrolled": true
   },
   "outputs": [
    {
     "data": {
      "text/plain": [
       "4WD         9412\n",
       "2 WD        5078\n",
       "2WD         4678\n",
       "FF          4578\n",
       "Передний    3270\n",
       "Name: drive_type, dtype: int64"
      ]
     },
     "execution_count": 78,
     "metadata": {},
     "output_type": "execute_result"
    }
   ],
   "source": [
    "data['drive_type'].value_counts().head()"
   ]
  },
  {
   "cell_type": "code",
   "execution_count": 79,
   "id": "2be694cd",
   "metadata": {},
   "outputs": [
    {
     "data": {
      "text/plain": [
       "4289"
      ]
     },
     "execution_count": 79,
     "metadata": {},
     "output_type": "execute_result"
    }
   ],
   "source": [
    "data['drive_type'].isna().sum()"
   ]
  },
  {
   "cell_type": "code",
   "execution_count": 80,
   "id": "aca0425d",
   "metadata": {
    "id": "aca0425d"
   },
   "outputs": [],
   "source": [
    "data['drive_type'] = data['drive_type'].str.strip().str.lower().replace(' ', '', regex=True)\n"
   ]
  },
  {
   "cell_type": "code",
   "execution_count": 81,
   "id": "a2456c20",
   "metadata": {
    "id": "a2456c20",
    "outputId": "483a0614-8e0e-44e8-b090-7465f744cdf0"
   },
   "outputs": [
    {
     "data": {
      "text/plain": [
       "4wd         12019\n",
       "2wd          9756\n",
       "ff           4578\n",
       "передний     3326\n",
       "полный       1922\n",
       "Name: drive_type, dtype: int64"
      ]
     },
     "execution_count": 81,
     "metadata": {},
     "output_type": "execute_result"
    }
   ],
   "source": [
    "data['drive_type'].value_counts().head()"
   ]
  },
  {
   "cell_type": "code",
   "execution_count": 82,
   "id": "83848dbe",
   "metadata": {
    "id": "83848dbe"
   },
   "outputs": [],
   "source": [
    "def categorize_drive_type(e):\n",
    "    if not isinstance(e, str):\n",
    "        return 'Unknown'  # Returns the value as is if it is not a string\n",
    "\n",
    "    dictionary = {'FWD': ['передний','2wd','ff','fwd', '4x2'],\n",
    "                  'RWD': ['задний','rwd' ],\n",
    "                  'AWD': ['полный','quattro','awd','4wd', '4x4','4х4','4X4','4motion' ],\n",
    "                  'Unknown': ['астана', '0', '4х2.2','4х2']\n",
    "                 }\n",
    "    for category, words in dictionary.items():\n",
    "        for word in words:\n",
    "            if word in e:\n",
    "                return category\n",
    "    return e"
   ]
  },
  {
   "cell_type": "code",
   "execution_count": 83,
   "id": "bd4b7635",
   "metadata": {
    "id": "bd4b7635"
   },
   "outputs": [],
   "source": [
    "data['drive_type_flt'] = data['drive_type'].apply(categorize_drive_type)"
   ]
  },
  {
   "cell_type": "markdown",
   "id": "367a4d8d",
   "metadata": {
    "id": "367a4d8d"
   },
   "source": [
    "Missing 'drive type' values have been restored based on the 'drive type' values for identical models."
   ]
  },
  {
   "cell_type": "code",
   "execution_count": 84,
   "id": "8f49475d",
   "metadata": {
    "id": "8f49475d"
   },
   "outputs": [],
   "source": [
    "data.loc[31148:31149, 'drive_type'] = 'FWD'\n",
    "data.loc[32670, 'drive_type'] =  'AWD'\n",
    "data.loc[33070, 'drive_type'] = 'AWD'\n",
    "data.loc[data['model']=='Duster', 'drive_type']= 'AWD'\n",
    "data.loc[data['model']=='Sandero', 'drive_type']= 'FWD'"
   ]
  },
  {
   "cell_type": "code",
   "execution_count": 85,
   "id": "182b9d74",
   "metadata": {
    "id": "182b9d74",
    "outputId": "37bdb519-896b-47a6-c408-b3fa728c2f03",
    "scrolled": false
   },
   "outputs": [
    {
     "data": {
      "text/plain": [
       "FWD        18811\n",
       "AWD        15022\n",
       "Unknown     4455\n",
       "RWD         1674\n",
       "#н/д           4\n",
       "Name: drive_type_flt, dtype: int64"
      ]
     },
     "execution_count": 85,
     "metadata": {},
     "output_type": "execute_result"
    }
   ],
   "source": [
    "data['drive_type_flt'].value_counts().head(40)"
   ]
  },
  {
   "cell_type": "markdown",
   "id": "4685fa14",
   "metadata": {
    "id": "4685fa14"
   },
   "source": [
    "The 'drive type' has been brought to a uniform format, but unfortunately, it remains 'unknown' for many cars.Т"
   ]
  },
  {
   "cell_type": "code",
   "execution_count": 86,
   "id": "67a180c1",
   "metadata": {
    "id": "67a180c1",
    "outputId": "cef81763-0ee9-48ef-e652-fcfa56dd4136"
   },
   "outputs": [
    {
     "data": {
      "text/plain": [
       "<Axes: >"
      ]
     },
     "execution_count": 86,
     "metadata": {},
     "output_type": "execute_result"
    },
    {
     "data": {
      "image/png": "[encoded data removed]",
      "text/plain": [
       "<Figure size 640x480 with 1 Axes>"
      ]
     },
     "metadata": {},
     "output_type": "display_data"
    }
   ],
   "source": [
    "data['drive_type_flt'].hist()"
   ]
  },
  {
   "cell_type": "markdown",
   "id": "7fefbbde",
   "metadata": {
    "id": "7fefbbde"
   },
   "source": [
    "### segmentat, segmentation_2013, class_2013, segmentation_eng"
   ]
  },
  {
   "cell_type": "markdown",
   "id": "636536c6",
   "metadata": {
    "id": "636536c6"
   },
   "source": [
    "Let's leave all these columns unchanged. All of them, except for 'segment', are categorized and appear fine. The 'segment' column can serve as a source for additional information."
   ]
  },
  {
   "cell_type": "code",
   "execution_count": 87,
   "id": "00860fca",
   "metadata": {},
   "outputs": [],
   "source": [
    "# 'segmentation_2013' has been translated to english\n",
    "translation_dict = {\n",
    "    'Легковые автомобили': 'Passenger cars',\n",
    "    'Внедорожники': 'SUVs',\n",
    "    'Коммерческие автомобили': 'Commercial vehicles',\n",
    "    'Минивэны': 'Minivans',\n",
    "    'Пикапы': 'Pickup trucks'\n",
    "}\n",
    "\n",
    "data['segmentation_2013'] = data['segmentation_2013'].map(translation_dict)"
   ]
  },
  {
   "cell_type": "code",
   "execution_count": 88,
   "id": "6ed19838",
   "metadata": {
    "id": "6ed19838",
    "outputId": "b019d78e-a1e1-428f-eff2-61fe19032b61"
   },
   "outputs": [
    {
     "data": {
      "image/png": "[encoded data removed]",
      "text/plain": [
       "<Figure size 1000x400 with 1 Axes>"
      ]
     },
     "metadata": {},
     "output_type": "display_data"
    }
   ],
   "source": [
    "data['segmentation_2013'].unique()\n",
    "plt.figure(figsize=(10, 4))\n",
    "\n",
    "data['segmentation_2013'].hist()\n",
    "plt.xlabel('Segment')\n",
    "plt.ylabel('Quantity')\n",
    "plt.title('The number of cars in different segments')\n",
    "plt.xticks(rotation=30)\n",
    "\n",
    "plt.show()"
   ]
  },
  {
   "cell_type": "markdown",
   "id": "411bfacf",
   "metadata": {
    "id": "411bfacf"
   },
   "source": [
    "### Region"
   ]
  },
  {
   "cell_type": "markdown",
   "id": "e6d0841b",
   "metadata": {
    "id": "e6d0841b"
   },
   "source": [
    "In the \"region\" column, the information indicates in which region the car was sold."
   ]
  },
  {
   "cell_type": "code",
   "execution_count": 89,
   "id": "33f73658",
   "metadata": {},
   "outputs": [],
   "source": [
    "translation_dict = {\n",
    "    'Алматы': 'Almaty',\n",
    "    'Нур-Султан': 'Nur-Sultan',\n",
    "    'Усть-Каменогорск': 'Ust-Kamenogorsk',\n",
    "    'Уральск': 'Uralsk',\n",
    "    'Костанай': 'Kostanay',\n",
    "    'Павлодар': 'Pavlodar',\n",
    "    'Семей': 'Semey',\n",
    "    'Шымкент': 'Shymkent',\n",
    "    'Актау': 'Aktau',\n",
    "    'Атырау': 'Atyrau',\n",
    "    'Актобе': 'Aktobe',\n",
    "    'Караганда': 'Karaganda',\n",
    "    'Петропавловск': 'Petropavlovsk',\n",
    "    'Кокшетау': 'Kokshetau',\n",
    "    'Рудный': 'Rudny',\n",
    "    'Кызылорда': 'Kyzylorda',\n",
    "    'Тараз': 'Taraz',\n",
    "    'Туркестан': 'Turkestan',\n",
    "    'Талдыкорган': 'Taldykorgan',\n",
    "    'ЭКСПОРТ': 'Export',\n",
    "    'Кульсары': 'Kulsary',\n",
    "    'Каскелен': 'Kaskelen',\n",
    "    'Экибастуз': 'Ekibastuz',\n",
    "    'Риддер': 'Ridder',\n",
    "    'Сарыагаш': 'Saryagash',\n",
    "    'Зыряновск': 'Zyryanovsk'\n",
    "}\n",
    "data['region'] = data['region'].map(translation_dict)"
   ]
  },
  {
   "cell_type": "code",
   "execution_count": 90,
   "id": "ec557139",
   "metadata": {
    "id": "ec557139",
    "outputId": "b6f31b6b-a6eb-48ff-ddb5-54ed4b882ffc"
   },
   "outputs": [
    {
     "data": {
      "text/plain": [
       "array(['Almaty', 'Nur-Sultan', 'Ust-Kamenogorsk', 'Uralsk', 'Kostanay',\n",
       "       'Pavlodar', 'Semey', 'Shymkent', 'Aktau', 'Atyrau', 'Aktobe',\n",
       "       'Karaganda', 'Petropavlovsk', 'Kokshetau', 'Rudny', 'Kyzylorda',\n",
       "       'Taraz', 'Turkestan', 'Taldykorgan', 'Export', 'Kulsary',\n",
       "       'Kaskelen', 'Ekibastuz', 'Ridder', 'Saryagash', 'Zyryanovsk'],\n",
       "      dtype=object)"
      ]
     },
     "execution_count": 90,
     "metadata": {},
     "output_type": "execute_result"
    }
   ],
   "source": [
    "data.region.unique()"
   ]
  },
  {
   "cell_type": "code",
   "execution_count": 91,
   "id": "540d7c0d",
   "metadata": {
    "id": "540d7c0d",
    "outputId": "a898a4f6-4ba6-4854-ea8b-c822ba29009d"
   },
   "outputs": [
    {
     "data": {
      "image/png": "[encoded data removed]",
      "text/plain": [
       "<Figure size 1000x400 with 1 Axes>"
      ]
     },
     "metadata": {},
     "output_type": "display_data"
    }
   ],
   "source": [
    "plt.figure(figsize=(10, 4))\n",
    "\n",
    "data['region'].hist(bins = 26)\n",
    "plt.xlabel('City')\n",
    "plt.ylabel('Quantity')\n",
    "plt.title('The quantity of cars sold in different regions')\n",
    "plt.xticks(rotation=70)\n",
    "\n",
    "plt.show()"
   ]
  },
  {
   "cell_type": "markdown",
   "id": "7b23226a",
   "metadata": {
    "id": "7b23226a"
   },
   "source": [
    "### Dealership name"
   ]
  },
  {
   "cell_type": "markdown",
   "id": "20a71082",
   "metadata": {
    "id": "20a71082"
   },
   "source": [
    "The column is completely filled. It is difficult to determine if this information is important for analysis. Let's leave these columns unchanged at this stage of analysis."
   ]
  },
  {
   "cell_type": "code",
   "execution_count": 92,
   "id": "8739fb82",
   "metadata": {
    "id": "8739fb82",
    "outputId": "a304ae2b-57c0-4844-abe1-e4e1454759a7",
    "scrolled": false
   },
   "outputs": [
    {
     "data": {
      "text/plain": [
       "Hyundai Premium Almaty    1600\n",
       "Hyundai Auto Almaty       1425\n",
       "Hyundai Premium Astana    1385\n",
       "Тойота Центр Алматы       1343\n",
       "Тойота Центр Астана       1333\n",
       "                          ... \n",
       "Меридиан АВТО Актау          1\n",
       "СарыаркаАвтоПром             1\n",
       "Равон Моторс Костанай        1\n",
       "Ford Атырау                  1\n",
       "СемАЗ Кызылорда              1\n",
       "Name: dealership_name, Length: 205, dtype: int64"
      ]
     },
     "execution_count": 92,
     "metadata": {},
     "output_type": "execute_result"
    }
   ],
   "source": [
    "data['dealership_name'].value_counts()"
   ]
  },
  {
   "cell_type": "markdown",
   "id": "513f9111",
   "metadata": {
    "id": "513f9111"
   },
   "source": [
    "### The quantity of sold cars"
   ]
  },
  {
   "cell_type": "markdown",
   "id": "c9333511",
   "metadata": {
    "id": "c9333511"
   },
   "source": [
    "Six missing values have been detected and deleted, as well as the row with the value '-1'. The remaining rows are filled completely and correct."
   ]
  },
  {
   "cell_type": "code",
   "execution_count": 93,
   "id": "69cf1ba6",
   "metadata": {
    "id": "69cf1ba6",
    "outputId": "6d3f2d0a-d488-42a0-92e5-fac415ac73e7"
   },
   "outputs": [
    {
     "data": {
      "text/plain": [
       "6"
      ]
     },
     "execution_count": 93,
     "metadata": {},
     "output_type": "execute_result"
    }
   ],
   "source": [
    "data['quantity'].isna().sum()"
   ]
  },
  {
   "cell_type": "code",
   "execution_count": 94,
   "id": "a627b82a",
   "metadata": {
    "id": "a627b82a"
   },
   "outputs": [],
   "source": [
    "data = data.dropna(subset='quantity')\n",
    "data = data[data['quantity']!= -1]"
   ]
  },
  {
   "cell_type": "code",
   "execution_count": 95,
   "id": "4f845fff",
   "metadata": {
    "id": "4f845fff"
   },
   "outputs": [],
   "source": [
    "data['quantity']  = data['quantity'].astype(int)"
   ]
  },
  {
   "cell_type": "code",
   "execution_count": 96,
   "id": "6b30f7cc",
   "metadata": {
    "id": "6b30f7cc",
    "outputId": "69cf29d3-b45b-4d66-fc5e-4eb990fef31f"
   },
   "outputs": [],
   "source": [
    "#data['quantity'].value_counts()"
   ]
  },
  {
   "cell_type": "markdown",
   "id": "48e32879",
   "metadata": {
    "id": "48e32879"
   },
   "source": [
    "### Client type"
   ]
  },
  {
   "cell_type": "code",
   "execution_count": 97,
   "id": "ca6a0b29",
   "metadata": {
    "id": "ca6a0b29",
    "outputId": "912d08eb-5a2b-448d-f9d4-a49d4aa6ad17",
    "scrolled": false
   },
   "outputs": [
    {
     "data": {
      "text/plain": [
       "Физ. Лицо       0.614830\n",
       "Юр. Лицо        0.197027\n",
       "nan             0.176181\n",
       "Корп. клиент    0.004029\n",
       "ФизЛицо         0.003303\n",
       "юридическое     0.002427\n",
       "ЮрЛицо          0.000751\n",
       "физ.лицо        0.000726\n",
       "Юр.Лицо         0.000626\n",
       "физическое      0.000100\n",
       "Name: client_type, dtype: float64"
      ]
     },
     "execution_count": 97,
     "metadata": {},
     "output_type": "execute_result"
    }
   ],
   "source": [
    "data['client_type'].value_counts('quantity')"
   ]
  },
  {
   "cell_type": "markdown",
   "id": "85d4ca5e",
   "metadata": {
    "id": "85d4ca5e"
   },
   "source": [
    "The visualization of the distribution of purchased car quantities, depending on the customer type (company or individual), shows that, as expected, most purchases of more than one car were made by corporate customers."
   ]
  },
  {
   "cell_type": "code",
   "execution_count": 98,
   "id": "dbc0adb4",
   "metadata": {
    "id": "dbc0adb4"
   },
   "outputs": [],
   "source": [
    "client_type = data.pivot_table(index = 'client_type', columns = 'quantity', aggfunc ='count')"
   ]
  },
  {
   "cell_type": "code",
   "execution_count": 99,
   "id": "67de897b",
   "metadata": {
    "id": "67de897b",
    "outputId": "48427f91-e532-4d50-8a16-b11e07857f39",
    "scrolled": true
   },
   "outputs": [
    {
     "data": {
      "text/html": [
       "<div>\n",
       "<style scoped>\n",
       "    .dataframe tbody tr th:only-of-type {\n",
       "        vertical-align: middle;\n",
       "    }\n",
       "\n",
       "    .dataframe tbody tr th {\n",
       "        vertical-align: top;\n",
       "    }\n",
       "\n",
       "    .dataframe thead tr th {\n",
       "        text-align: left;\n",
       "    }\n",
       "\n",
       "    .dataframe thead tr:last-of-type th {\n",
       "        text-align: right;\n",
       "    }\n",
       "</style>\n",
       "<table border=\"1\" class=\"dataframe\">\n",
       "  <thead>\n",
       "    <tr>\n",
       "      <th></th>\n",
       "      <th colspan=\"10\" halign=\"left\">area</th>\n",
       "      <th>...</th>\n",
       "      <th colspan=\"10\" halign=\"left\">year_of_manufacture</th>\n",
       "    </tr>\n",
       "    <tr>\n",
       "      <th>quantity</th>\n",
       "      <th>1</th>\n",
       "      <th>2</th>\n",
       "      <th>3</th>\n",
       "      <th>4</th>\n",
       "      <th>5</th>\n",
       "      <th>6</th>\n",
       "      <th>7</th>\n",
       "      <th>8</th>\n",
       "      <th>9</th>\n",
       "      <th>10</th>\n",
       "      <th>...</th>\n",
       "      <th>51</th>\n",
       "      <th>54</th>\n",
       "      <th>60</th>\n",
       "      <th>62</th>\n",
       "      <th>63</th>\n",
       "      <th>66</th>\n",
       "      <th>70</th>\n",
       "      <th>79</th>\n",
       "      <th>100</th>\n",
       "      <th>115</th>\n",
       "    </tr>\n",
       "    <tr>\n",
       "      <th>client_type</th>\n",
       "      <th></th>\n",
       "      <th></th>\n",
       "      <th></th>\n",
       "      <th></th>\n",
       "      <th></th>\n",
       "      <th></th>\n",
       "      <th></th>\n",
       "      <th></th>\n",
       "      <th></th>\n",
       "      <th></th>\n",
       "      <th></th>\n",
       "      <th></th>\n",
       "      <th></th>\n",
       "      <th></th>\n",
       "      <th></th>\n",
       "      <th></th>\n",
       "      <th></th>\n",
       "      <th></th>\n",
       "      <th></th>\n",
       "      <th></th>\n",
       "      <th></th>\n",
       "    </tr>\n",
       "  </thead>\n",
       "  <tbody>\n",
       "    <tr>\n",
       "      <th>nan</th>\n",
       "      <td>4326.0</td>\n",
       "      <td>1003.0</td>\n",
       "      <td>443.0</td>\n",
       "      <td>282.0</td>\n",
       "      <td>181.0</td>\n",
       "      <td>119.0</td>\n",
       "      <td>99.0</td>\n",
       "      <td>78.0</td>\n",
       "      <td>59.0</td>\n",
       "      <td>61.0</td>\n",
       "      <td>...</td>\n",
       "      <td>1.0</td>\n",
       "      <td>1.0</td>\n",
       "      <td>1.0</td>\n",
       "      <td>0.0</td>\n",
       "      <td>1.0</td>\n",
       "      <td>1.0</td>\n",
       "      <td>NaN</td>\n",
       "      <td>0.0</td>\n",
       "      <td>1.0</td>\n",
       "      <td>1.0</td>\n",
       "    </tr>\n",
       "    <tr>\n",
       "      <th>Корп. клиент</th>\n",
       "      <td>161.0</td>\n",
       "      <td>NaN</td>\n",
       "      <td>NaN</td>\n",
       "      <td>NaN</td>\n",
       "      <td>NaN</td>\n",
       "      <td>NaN</td>\n",
       "      <td>NaN</td>\n",
       "      <td>NaN</td>\n",
       "      <td>NaN</td>\n",
       "      <td>NaN</td>\n",
       "      <td>...</td>\n",
       "      <td>NaN</td>\n",
       "      <td>NaN</td>\n",
       "      <td>NaN</td>\n",
       "      <td>NaN</td>\n",
       "      <td>NaN</td>\n",
       "      <td>NaN</td>\n",
       "      <td>NaN</td>\n",
       "      <td>NaN</td>\n",
       "      <td>NaN</td>\n",
       "      <td>NaN</td>\n",
       "    </tr>\n",
       "    <tr>\n",
       "      <th>Физ. Лицо</th>\n",
       "      <td>24564.0</td>\n",
       "      <td>3.0</td>\n",
       "      <td>NaN</td>\n",
       "      <td>NaN</td>\n",
       "      <td>NaN</td>\n",
       "      <td>NaN</td>\n",
       "      <td>1.0</td>\n",
       "      <td>NaN</td>\n",
       "      <td>NaN</td>\n",
       "      <td>NaN</td>\n",
       "      <td>...</td>\n",
       "      <td>NaN</td>\n",
       "      <td>NaN</td>\n",
       "      <td>NaN</td>\n",
       "      <td>NaN</td>\n",
       "      <td>NaN</td>\n",
       "      <td>NaN</td>\n",
       "      <td>NaN</td>\n",
       "      <td>NaN</td>\n",
       "      <td>NaN</td>\n",
       "      <td>NaN</td>\n",
       "    </tr>\n",
       "    <tr>\n",
       "      <th>ФизЛицо</th>\n",
       "      <td>132.0</td>\n",
       "      <td>NaN</td>\n",
       "      <td>NaN</td>\n",
       "      <td>NaN</td>\n",
       "      <td>NaN</td>\n",
       "      <td>NaN</td>\n",
       "      <td>NaN</td>\n",
       "      <td>NaN</td>\n",
       "      <td>NaN</td>\n",
       "      <td>NaN</td>\n",
       "      <td>...</td>\n",
       "      <td>NaN</td>\n",
       "      <td>NaN</td>\n",
       "      <td>NaN</td>\n",
       "      <td>NaN</td>\n",
       "      <td>NaN</td>\n",
       "      <td>NaN</td>\n",
       "      <td>NaN</td>\n",
       "      <td>NaN</td>\n",
       "      <td>NaN</td>\n",
       "      <td>NaN</td>\n",
       "    </tr>\n",
       "    <tr>\n",
       "      <th>Юр. Лицо</th>\n",
       "      <td>7835.0</td>\n",
       "      <td>11.0</td>\n",
       "      <td>9.0</td>\n",
       "      <td>NaN</td>\n",
       "      <td>4.0</td>\n",
       "      <td>1.0</td>\n",
       "      <td>NaN</td>\n",
       "      <td>1.0</td>\n",
       "      <td>2.0</td>\n",
       "      <td>2.0</td>\n",
       "      <td>...</td>\n",
       "      <td>NaN</td>\n",
       "      <td>NaN</td>\n",
       "      <td>NaN</td>\n",
       "      <td>NaN</td>\n",
       "      <td>NaN</td>\n",
       "      <td>NaN</td>\n",
       "      <td>1.0</td>\n",
       "      <td>NaN</td>\n",
       "      <td>NaN</td>\n",
       "      <td>NaN</td>\n",
       "    </tr>\n",
       "    <tr>\n",
       "      <th>Юр.Лицо</th>\n",
       "      <td>25.0</td>\n",
       "      <td>NaN</td>\n",
       "      <td>NaN</td>\n",
       "      <td>NaN</td>\n",
       "      <td>NaN</td>\n",
       "      <td>NaN</td>\n",
       "      <td>NaN</td>\n",
       "      <td>NaN</td>\n",
       "      <td>NaN</td>\n",
       "      <td>NaN</td>\n",
       "      <td>...</td>\n",
       "      <td>NaN</td>\n",
       "      <td>NaN</td>\n",
       "      <td>NaN</td>\n",
       "      <td>NaN</td>\n",
       "      <td>NaN</td>\n",
       "      <td>NaN</td>\n",
       "      <td>NaN</td>\n",
       "      <td>NaN</td>\n",
       "      <td>NaN</td>\n",
       "      <td>NaN</td>\n",
       "    </tr>\n",
       "    <tr>\n",
       "      <th>ЮрЛицо</th>\n",
       "      <td>30.0</td>\n",
       "      <td>NaN</td>\n",
       "      <td>NaN</td>\n",
       "      <td>NaN</td>\n",
       "      <td>NaN</td>\n",
       "      <td>NaN</td>\n",
       "      <td>NaN</td>\n",
       "      <td>NaN</td>\n",
       "      <td>NaN</td>\n",
       "      <td>NaN</td>\n",
       "      <td>...</td>\n",
       "      <td>NaN</td>\n",
       "      <td>NaN</td>\n",
       "      <td>NaN</td>\n",
       "      <td>NaN</td>\n",
       "      <td>NaN</td>\n",
       "      <td>NaN</td>\n",
       "      <td>NaN</td>\n",
       "      <td>NaN</td>\n",
       "      <td>NaN</td>\n",
       "      <td>NaN</td>\n",
       "    </tr>\n",
       "    <tr>\n",
       "      <th>физ.лицо</th>\n",
       "      <td>29.0</td>\n",
       "      <td>NaN</td>\n",
       "      <td>NaN</td>\n",
       "      <td>NaN</td>\n",
       "      <td>NaN</td>\n",
       "      <td>NaN</td>\n",
       "      <td>NaN</td>\n",
       "      <td>NaN</td>\n",
       "      <td>NaN</td>\n",
       "      <td>NaN</td>\n",
       "      <td>...</td>\n",
       "      <td>NaN</td>\n",
       "      <td>NaN</td>\n",
       "      <td>NaN</td>\n",
       "      <td>NaN</td>\n",
       "      <td>NaN</td>\n",
       "      <td>NaN</td>\n",
       "      <td>NaN</td>\n",
       "      <td>NaN</td>\n",
       "      <td>NaN</td>\n",
       "      <td>NaN</td>\n",
       "    </tr>\n",
       "    <tr>\n",
       "      <th>физическое</th>\n",
       "      <td>4.0</td>\n",
       "      <td>NaN</td>\n",
       "      <td>NaN</td>\n",
       "      <td>NaN</td>\n",
       "      <td>NaN</td>\n",
       "      <td>NaN</td>\n",
       "      <td>NaN</td>\n",
       "      <td>NaN</td>\n",
       "      <td>NaN</td>\n",
       "      <td>NaN</td>\n",
       "      <td>...</td>\n",
       "      <td>NaN</td>\n",
       "      <td>NaN</td>\n",
       "      <td>NaN</td>\n",
       "      <td>NaN</td>\n",
       "      <td>NaN</td>\n",
       "      <td>NaN</td>\n",
       "      <td>NaN</td>\n",
       "      <td>NaN</td>\n",
       "      <td>NaN</td>\n",
       "      <td>NaN</td>\n",
       "    </tr>\n",
       "    <tr>\n",
       "      <th>юридическое</th>\n",
       "      <td>97.0</td>\n",
       "      <td>NaN</td>\n",
       "      <td>NaN</td>\n",
       "      <td>NaN</td>\n",
       "      <td>NaN</td>\n",
       "      <td>NaN</td>\n",
       "      <td>NaN</td>\n",
       "      <td>NaN</td>\n",
       "      <td>NaN</td>\n",
       "      <td>NaN</td>\n",
       "      <td>...</td>\n",
       "      <td>NaN</td>\n",
       "      <td>NaN</td>\n",
       "      <td>NaN</td>\n",
       "      <td>NaN</td>\n",
       "      <td>NaN</td>\n",
       "      <td>NaN</td>\n",
       "      <td>NaN</td>\n",
       "      <td>NaN</td>\n",
       "      <td>NaN</td>\n",
       "      <td>NaN</td>\n",
       "    </tr>\n",
       "  </tbody>\n",
       "</table>\n",
       "<p>10 rows × 1265 columns</p>\n",
       "</div>"
      ],
      "text/plain": [
       "                 area                                                        \\\n",
       "quantity          1       2      3      4      5      6     7     8     9     \n",
       "client_type                                                                   \n",
       "nan            4326.0  1003.0  443.0  282.0  181.0  119.0  99.0  78.0  59.0   \n",
       "Корп. клиент    161.0     NaN    NaN    NaN    NaN    NaN   NaN   NaN   NaN   \n",
       "Физ. Лицо     24564.0     3.0    NaN    NaN    NaN    NaN   1.0   NaN   NaN   \n",
       "ФизЛицо         132.0     NaN    NaN    NaN    NaN    NaN   NaN   NaN   NaN   \n",
       "Юр. Лицо       7835.0    11.0    9.0    NaN    4.0    1.0   NaN   1.0   2.0   \n",
       "Юр.Лицо          25.0     NaN    NaN    NaN    NaN    NaN   NaN   NaN   NaN   \n",
       "ЮрЛицо           30.0     NaN    NaN    NaN    NaN    NaN   NaN   NaN   NaN   \n",
       "физ.лицо         29.0     NaN    NaN    NaN    NaN    NaN   NaN   NaN   NaN   \n",
       "физическое        4.0     NaN    NaN    NaN    NaN    NaN   NaN   NaN   NaN   \n",
       "юридическое      97.0     NaN    NaN    NaN    NaN    NaN   NaN   NaN   NaN   \n",
       "\n",
       "                    ... year_of_manufacture                                \\\n",
       "quantity       10   ...                 51   54   60   62   63   66   70    \n",
       "client_type         ...                                                     \n",
       "nan           61.0  ...                 1.0  1.0  1.0  0.0  1.0  1.0  NaN   \n",
       "Корп. клиент   NaN  ...                 NaN  NaN  NaN  NaN  NaN  NaN  NaN   \n",
       "Физ. Лицо      NaN  ...                 NaN  NaN  NaN  NaN  NaN  NaN  NaN   \n",
       "ФизЛицо        NaN  ...                 NaN  NaN  NaN  NaN  NaN  NaN  NaN   \n",
       "Юр. Лицо       2.0  ...                 NaN  NaN  NaN  NaN  NaN  NaN  1.0   \n",
       "Юр.Лицо        NaN  ...                 NaN  NaN  NaN  NaN  NaN  NaN  NaN   \n",
       "ЮрЛицо         NaN  ...                 NaN  NaN  NaN  NaN  NaN  NaN  NaN   \n",
       "физ.лицо       NaN  ...                 NaN  NaN  NaN  NaN  NaN  NaN  NaN   \n",
       "физическое     NaN  ...                 NaN  NaN  NaN  NaN  NaN  NaN  NaN   \n",
       "юридическое    NaN  ...                 NaN  NaN  NaN  NaN  NaN  NaN  NaN   \n",
       "\n",
       "                             \n",
       "quantity      79   100  115  \n",
       "client_type                  \n",
       "nan           0.0  1.0  1.0  \n",
       "Корп. клиент  NaN  NaN  NaN  \n",
       "Физ. Лицо     NaN  NaN  NaN  \n",
       "ФизЛицо       NaN  NaN  NaN  \n",
       "Юр. Лицо      NaN  NaN  NaN  \n",
       "Юр.Лицо       NaN  NaN  NaN  \n",
       "ЮрЛицо        NaN  NaN  NaN  \n",
       "физ.лицо      NaN  NaN  NaN  \n",
       "физическое    NaN  NaN  NaN  \n",
       "юридическое   NaN  NaN  NaN  \n",
       "\n",
       "[10 rows x 1265 columns]"
      ]
     },
     "execution_count": 99,
     "metadata": {},
     "output_type": "execute_result"
    }
   ],
   "source": [
    "client_type"
   ]
  },
  {
   "cell_type": "code",
   "execution_count": 100,
   "id": "3f410b2d",
   "metadata": {
    "id": "3f410b2d"
   },
   "outputs": [],
   "source": [
    "data['client_type'] = data['client_type'].str.strip().str.lower()"
   ]
  },
  {
   "cell_type": "code",
   "execution_count": 101,
   "id": "4255c84f",
   "metadata": {
    "id": "4255c84f",
    "outputId": "28a932eb-d9d6-4d05-bf47-fb8eac462e66",
    "scrolled": false
   },
   "outputs": [
    {
     "data": {
      "text/plain": [
       "физ. лицо       24568\n",
       "юр. лицо         7873\n",
       "nan              7040\n",
       "корп. клиент      161\n",
       "физлицо           132\n",
       "юридическое        97\n",
       "юрлицо             30\n",
       "физ.лицо           29\n",
       "юр.лицо            25\n",
       "физическое          4\n",
       "Name: client_type, dtype: int64"
      ]
     },
     "execution_count": 101,
     "metadata": {},
     "output_type": "execute_result"
    }
   ],
   "source": [
    "data['client_type'].value_counts()"
   ]
  },
  {
   "cell_type": "markdown",
   "id": "04cac1dd",
   "metadata": {},
   "source": [
    "Let's change string value 'nan' to 'Not a number' value."
   ]
  },
  {
   "cell_type": "code",
   "execution_count": 102,
   "id": "dac72846",
   "metadata": {
    "id": "dac72846",
    "outputId": "38486186-496b-45ca-fb53-ac2f48373d88"
   },
   "outputs": [
    {
     "data": {
      "text/plain": [
       "7040"
      ]
     },
     "execution_count": 102,
     "metadata": {},
     "output_type": "execute_result"
    }
   ],
   "source": [
    "data['client_type'] = data['client_type'].replace('nan', np.nan)\n",
    "\n",
    "data['client_type'].isna().sum()"
   ]
  },
  {
   "cell_type": "markdown",
   "id": "9d8d935b",
   "metadata": {},
   "source": [
    "For starters, let's fill all NaN rows. If the 'client_type' is NaN and 'quantity' equals 1, 'client_type_cor' is 'individual'; if it's bigger than one, it's 'company'."
   ]
  },
  {
   "cell_type": "code",
   "execution_count": 103,
   "id": "1c7ad7a6",
   "metadata": {
    "id": "1c7ad7a6"
   },
   "outputs": [],
   "source": [
    "data['client_type_cor'] = data['client_type']\n",
    "\n",
    "data.loc[(pd.isna(data['client_type'])) & (data['quantity'] == 1), 'client_type_cor'] = 'individual'\n",
    "data.loc[(pd.isna(data['client_type'])) & (data['quantity'] > 1), 'client_type_cor'] = 'company'"
   ]
  },
  {
   "cell_type": "code",
   "execution_count": 104,
   "id": "405c6dd5",
   "metadata": {
    "id": "405c6dd5",
    "outputId": "4f5faa6e-a8c2-4016-a329-98edc8eedcde",
    "scrolled": true
   },
   "outputs": [
    {
     "data": {
      "text/html": [
       "<div>\n",
       "<style scoped>\n",
       "    .dataframe tbody tr th:only-of-type {\n",
       "        vertical-align: middle;\n",
       "    }\n",
       "\n",
       "    .dataframe tbody tr th {\n",
       "        vertical-align: top;\n",
       "    }\n",
       "\n",
       "    .dataframe thead th {\n",
       "        text-align: right;\n",
       "    }\n",
       "</style>\n",
       "<table border=\"1\" class=\"dataframe\">\n",
       "  <thead>\n",
       "    <tr style=\"text-align: right;\">\n",
       "      <th></th>\n",
       "      <th>client_type</th>\n",
       "      <th>quantity</th>\n",
       "      <th>client_type_cor</th>\n",
       "    </tr>\n",
       "  </thead>\n",
       "  <tbody>\n",
       "    <tr>\n",
       "      <th>0</th>\n",
       "      <td>физ. лицо</td>\n",
       "      <td>1</td>\n",
       "      <td>физ. лицо</td>\n",
       "    </tr>\n",
       "    <tr>\n",
       "      <th>1</th>\n",
       "      <td>юр. лицо</td>\n",
       "      <td>1</td>\n",
       "      <td>юр. лицо</td>\n",
       "    </tr>\n",
       "    <tr>\n",
       "      <th>2</th>\n",
       "      <td>физ. лицо</td>\n",
       "      <td>1</td>\n",
       "      <td>физ. лицо</td>\n",
       "    </tr>\n",
       "    <tr>\n",
       "      <th>3</th>\n",
       "      <td>юр. лицо</td>\n",
       "      <td>1</td>\n",
       "      <td>юр. лицо</td>\n",
       "    </tr>\n",
       "    <tr>\n",
       "      <th>4</th>\n",
       "      <td>физ. лицо</td>\n",
       "      <td>1</td>\n",
       "      <td>физ. лицо</td>\n",
       "    </tr>\n",
       "    <tr>\n",
       "      <th>5</th>\n",
       "      <td>физ. лицо</td>\n",
       "      <td>1</td>\n",
       "      <td>физ. лицо</td>\n",
       "    </tr>\n",
       "    <tr>\n",
       "      <th>6</th>\n",
       "      <td>физ. лицо</td>\n",
       "      <td>1</td>\n",
       "      <td>физ. лицо</td>\n",
       "    </tr>\n",
       "    <tr>\n",
       "      <th>7</th>\n",
       "      <td>физ. лицо</td>\n",
       "      <td>1</td>\n",
       "      <td>физ. лицо</td>\n",
       "    </tr>\n",
       "    <tr>\n",
       "      <th>8</th>\n",
       "      <td>физ. лицо</td>\n",
       "      <td>1</td>\n",
       "      <td>физ. лицо</td>\n",
       "    </tr>\n",
       "    <tr>\n",
       "      <th>9</th>\n",
       "      <td>юр. лицо</td>\n",
       "      <td>1</td>\n",
       "      <td>юр. лицо</td>\n",
       "    </tr>\n",
       "    <tr>\n",
       "      <th>10</th>\n",
       "      <td>юр. лицо</td>\n",
       "      <td>1</td>\n",
       "      <td>юр. лицо</td>\n",
       "    </tr>\n",
       "    <tr>\n",
       "      <th>11</th>\n",
       "      <td>физ. лицо</td>\n",
       "      <td>1</td>\n",
       "      <td>физ. лицо</td>\n",
       "    </tr>\n",
       "    <tr>\n",
       "      <th>12</th>\n",
       "      <td>физ. лицо</td>\n",
       "      <td>1</td>\n",
       "      <td>физ. лицо</td>\n",
       "    </tr>\n",
       "    <tr>\n",
       "      <th>13</th>\n",
       "      <td>физ. лицо</td>\n",
       "      <td>1</td>\n",
       "      <td>физ. лицо</td>\n",
       "    </tr>\n",
       "    <tr>\n",
       "      <th>14</th>\n",
       "      <td>физ. лицо</td>\n",
       "      <td>1</td>\n",
       "      <td>физ. лицо</td>\n",
       "    </tr>\n",
       "    <tr>\n",
       "      <th>15</th>\n",
       "      <td>юр. лицо</td>\n",
       "      <td>1</td>\n",
       "      <td>юр. лицо</td>\n",
       "    </tr>\n",
       "    <tr>\n",
       "      <th>16</th>\n",
       "      <td>физ. лицо</td>\n",
       "      <td>1</td>\n",
       "      <td>физ. лицо</td>\n",
       "    </tr>\n",
       "    <tr>\n",
       "      <th>17</th>\n",
       "      <td>юр. лицо</td>\n",
       "      <td>1</td>\n",
       "      <td>юр. лицо</td>\n",
       "    </tr>\n",
       "    <tr>\n",
       "      <th>18</th>\n",
       "      <td>юр. лицо</td>\n",
       "      <td>1</td>\n",
       "      <td>юр. лицо</td>\n",
       "    </tr>\n",
       "    <tr>\n",
       "      <th>19</th>\n",
       "      <td>юр. лицо</td>\n",
       "      <td>1</td>\n",
       "      <td>юр. лицо</td>\n",
       "    </tr>\n",
       "    <tr>\n",
       "      <th>20</th>\n",
       "      <td>физ. лицо</td>\n",
       "      <td>1</td>\n",
       "      <td>физ. лицо</td>\n",
       "    </tr>\n",
       "    <tr>\n",
       "      <th>21</th>\n",
       "      <td>физ. лицо</td>\n",
       "      <td>1</td>\n",
       "      <td>физ. лицо</td>\n",
       "    </tr>\n",
       "    <tr>\n",
       "      <th>22</th>\n",
       "      <td>физ. лицо</td>\n",
       "      <td>1</td>\n",
       "      <td>физ. лицо</td>\n",
       "    </tr>\n",
       "    <tr>\n",
       "      <th>23</th>\n",
       "      <td>физ. лицо</td>\n",
       "      <td>1</td>\n",
       "      <td>физ. лицо</td>\n",
       "    </tr>\n",
       "    <tr>\n",
       "      <th>24</th>\n",
       "      <td>физ. лицо</td>\n",
       "      <td>1</td>\n",
       "      <td>физ. лицо</td>\n",
       "    </tr>\n",
       "    <tr>\n",
       "      <th>25</th>\n",
       "      <td>физ. лицо</td>\n",
       "      <td>1</td>\n",
       "      <td>физ. лицо</td>\n",
       "    </tr>\n",
       "    <tr>\n",
       "      <th>26</th>\n",
       "      <td>физ. лицо</td>\n",
       "      <td>1</td>\n",
       "      <td>физ. лицо</td>\n",
       "    </tr>\n",
       "    <tr>\n",
       "      <th>27</th>\n",
       "      <td>физ. лицо</td>\n",
       "      <td>1</td>\n",
       "      <td>физ. лицо</td>\n",
       "    </tr>\n",
       "    <tr>\n",
       "      <th>28</th>\n",
       "      <td>физ. лицо</td>\n",
       "      <td>1</td>\n",
       "      <td>физ. лицо</td>\n",
       "    </tr>\n",
       "    <tr>\n",
       "      <th>29</th>\n",
       "      <td>юр. лицо</td>\n",
       "      <td>1</td>\n",
       "      <td>юр. лицо</td>\n",
       "    </tr>\n",
       "    <tr>\n",
       "      <th>30</th>\n",
       "      <td>физ. лицо</td>\n",
       "      <td>1</td>\n",
       "      <td>физ. лицо</td>\n",
       "    </tr>\n",
       "    <tr>\n",
       "      <th>31</th>\n",
       "      <td>NaN</td>\n",
       "      <td>2</td>\n",
       "      <td>company</td>\n",
       "    </tr>\n",
       "    <tr>\n",
       "      <th>32</th>\n",
       "      <td>NaN</td>\n",
       "      <td>1</td>\n",
       "      <td>individual</td>\n",
       "    </tr>\n",
       "    <tr>\n",
       "      <th>33</th>\n",
       "      <td>NaN</td>\n",
       "      <td>1</td>\n",
       "      <td>individual</td>\n",
       "    </tr>\n",
       "    <tr>\n",
       "      <th>34</th>\n",
       "      <td>NaN</td>\n",
       "      <td>1</td>\n",
       "      <td>individual</td>\n",
       "    </tr>\n",
       "    <tr>\n",
       "      <th>35</th>\n",
       "      <td>NaN</td>\n",
       "      <td>1</td>\n",
       "      <td>individual</td>\n",
       "    </tr>\n",
       "    <tr>\n",
       "      <th>36</th>\n",
       "      <td>NaN</td>\n",
       "      <td>1</td>\n",
       "      <td>individual</td>\n",
       "    </tr>\n",
       "    <tr>\n",
       "      <th>37</th>\n",
       "      <td>NaN</td>\n",
       "      <td>1</td>\n",
       "      <td>individual</td>\n",
       "    </tr>\n",
       "    <tr>\n",
       "      <th>38</th>\n",
       "      <td>NaN</td>\n",
       "      <td>1</td>\n",
       "      <td>individual</td>\n",
       "    </tr>\n",
       "    <tr>\n",
       "      <th>39</th>\n",
       "      <td>NaN</td>\n",
       "      <td>4</td>\n",
       "      <td>company</td>\n",
       "    </tr>\n",
       "  </tbody>\n",
       "</table>\n",
       "</div>"
      ],
      "text/plain": [
       "   client_type  quantity client_type_cor\n",
       "0    физ. лицо         1       физ. лицо\n",
       "1     юр. лицо         1        юр. лицо\n",
       "2    физ. лицо         1       физ. лицо\n",
       "3     юр. лицо         1        юр. лицо\n",
       "4    физ. лицо         1       физ. лицо\n",
       "5    физ. лицо         1       физ. лицо\n",
       "6    физ. лицо         1       физ. лицо\n",
       "7    физ. лицо         1       физ. лицо\n",
       "8    физ. лицо         1       физ. лицо\n",
       "9     юр. лицо         1        юр. лицо\n",
       "10    юр. лицо         1        юр. лицо\n",
       "11   физ. лицо         1       физ. лицо\n",
       "12   физ. лицо         1       физ. лицо\n",
       "13   физ. лицо         1       физ. лицо\n",
       "14   физ. лицо         1       физ. лицо\n",
       "15    юр. лицо         1        юр. лицо\n",
       "16   физ. лицо         1       физ. лицо\n",
       "17    юр. лицо         1        юр. лицо\n",
       "18    юр. лицо         1        юр. лицо\n",
       "19    юр. лицо         1        юр. лицо\n",
       "20   физ. лицо         1       физ. лицо\n",
       "21   физ. лицо         1       физ. лицо\n",
       "22   физ. лицо         1       физ. лицо\n",
       "23   физ. лицо         1       физ. лицо\n",
       "24   физ. лицо         1       физ. лицо\n",
       "25   физ. лицо         1       физ. лицо\n",
       "26   физ. лицо         1       физ. лицо\n",
       "27   физ. лицо         1       физ. лицо\n",
       "28   физ. лицо         1       физ. лицо\n",
       "29    юр. лицо         1        юр. лицо\n",
       "30   физ. лицо         1       физ. лицо\n",
       "31         NaN         2         company\n",
       "32         NaN         1      individual\n",
       "33         NaN         1      individual\n",
       "34         NaN         1      individual\n",
       "35         NaN         1      individual\n",
       "36         NaN         1      individual\n",
       "37         NaN         1      individual\n",
       "38         NaN         1      individual\n",
       "39         NaN         4         company"
      ]
     },
     "execution_count": 104,
     "metadata": {},
     "output_type": "execute_result"
    }
   ],
   "source": [
    "data.loc[:,['client_type','quantity','client_type_cor']].head(40)"
   ]
  },
  {
   "cell_type": "markdown",
   "id": "3d6154b5",
   "metadata": {
    "id": "3d6154b5"
   },
   "source": [
    "Let's translate and standart all values in 'client_type' with function "
   ]
  },
  {
   "cell_type": "code",
   "execution_count": 105,
   "id": "7646bd07",
   "metadata": {
    "id": "7646bd07"
   },
   "outputs": [],
   "source": [
    "def categorize_client_type(data):\n",
    "\n",
    "    client = data['client_type_cor']\n",
    "    quantity = data['quantity']\n",
    "\n",
    "    if 'физ' in client :\n",
    "        return 'individual'\n",
    "    elif 'юр' in client or 'корп' in client:\n",
    "        return 'company'\n",
    "    else:\n",
    "        return client\n"
   ]
  },
  {
   "cell_type": "code",
   "execution_count": 106,
   "id": "cb605ff7",
   "metadata": {
    "id": "cb605ff7"
   },
   "outputs": [],
   "source": [
    "data['client_type_cor'] = data.apply(categorize_client_type, axis=1)"
   ]
  },
  {
   "cell_type": "code",
   "execution_count": 107,
   "id": "70fc532b",
   "metadata": {
    "id": "70fc532b",
    "outputId": "e9389cf2-e0a3-44dd-c76c-dd794d37901f"
   },
   "outputs": [
    {
     "data": {
      "image/png": "[encoded data removed]",
      "text/plain": [
       "<Figure size 640x480 with 1 Axes>"
      ]
     },
     "metadata": {},
     "output_type": "display_data"
    }
   ],
   "source": [
    "data['client_type_cor'].hist(bins = 3)\n",
    "\n",
    "plt.xlabel('Quantity')\n",
    "plt.ylabel('Client type')\n",
    "plt.title('Client type distribution')\n",
    "\n",
    "plt.show()"
   ]
  },
  {
   "cell_type": "code",
   "execution_count": 108,
   "id": "b6d4bde8",
   "metadata": {
    "id": "b6d4bde8",
    "outputId": "85de7d5a-994b-40a3-d5a6-48f9666d5fb7"
   },
   "outputs": [
    {
     "data": {
      "text/html": [
       "<div>\n",
       "<style scoped>\n",
       "    .dataframe tbody tr th:only-of-type {\n",
       "        vertical-align: middle;\n",
       "    }\n",
       "\n",
       "    .dataframe tbody tr th {\n",
       "        vertical-align: top;\n",
       "    }\n",
       "\n",
       "    .dataframe thead th {\n",
       "        text-align: right;\n",
       "    }\n",
       "</style>\n",
       "<table border=\"1\" class=\"dataframe\">\n",
       "  <thead>\n",
       "    <tr style=\"text-align: right;\">\n",
       "      <th></th>\n",
       "      <th>client_type</th>\n",
       "      <th>quantity</th>\n",
       "      <th>client_type_cor</th>\n",
       "    </tr>\n",
       "  </thead>\n",
       "  <tbody>\n",
       "    <tr>\n",
       "      <th>0</th>\n",
       "      <td>физ. лицо</td>\n",
       "      <td>1</td>\n",
       "      <td>individual</td>\n",
       "    </tr>\n",
       "    <tr>\n",
       "      <th>1</th>\n",
       "      <td>юр. лицо</td>\n",
       "      <td>1</td>\n",
       "      <td>company</td>\n",
       "    </tr>\n",
       "    <tr>\n",
       "      <th>2</th>\n",
       "      <td>физ. лицо</td>\n",
       "      <td>1</td>\n",
       "      <td>individual</td>\n",
       "    </tr>\n",
       "    <tr>\n",
       "      <th>3</th>\n",
       "      <td>юр. лицо</td>\n",
       "      <td>1</td>\n",
       "      <td>company</td>\n",
       "    </tr>\n",
       "    <tr>\n",
       "      <th>4</th>\n",
       "      <td>физ. лицо</td>\n",
       "      <td>1</td>\n",
       "      <td>individual</td>\n",
       "    </tr>\n",
       "    <tr>\n",
       "      <th>...</th>\n",
       "      <td>...</td>\n",
       "      <td>...</td>\n",
       "      <td>...</td>\n",
       "    </tr>\n",
       "    <tr>\n",
       "      <th>39961</th>\n",
       "      <td>юр. лицо</td>\n",
       "      <td>1</td>\n",
       "      <td>company</td>\n",
       "    </tr>\n",
       "    <tr>\n",
       "      <th>39962</th>\n",
       "      <td>юр. лицо</td>\n",
       "      <td>1</td>\n",
       "      <td>company</td>\n",
       "    </tr>\n",
       "    <tr>\n",
       "      <th>39963</th>\n",
       "      <td>юр. лицо</td>\n",
       "      <td>1</td>\n",
       "      <td>company</td>\n",
       "    </tr>\n",
       "    <tr>\n",
       "      <th>39964</th>\n",
       "      <td>юр. лицо</td>\n",
       "      <td>1</td>\n",
       "      <td>company</td>\n",
       "    </tr>\n",
       "    <tr>\n",
       "      <th>39965</th>\n",
       "      <td>юр. лицо</td>\n",
       "      <td>1</td>\n",
       "      <td>company</td>\n",
       "    </tr>\n",
       "  </tbody>\n",
       "</table>\n",
       "<p>39959 rows × 3 columns</p>\n",
       "</div>"
      ],
      "text/plain": [
       "      client_type  quantity client_type_cor\n",
       "0       физ. лицо         1      individual\n",
       "1        юр. лицо         1         company\n",
       "2       физ. лицо         1      individual\n",
       "3        юр. лицо         1         company\n",
       "4       физ. лицо         1      individual\n",
       "...           ...       ...             ...\n",
       "39961    юр. лицо         1         company\n",
       "39962    юр. лицо         1         company\n",
       "39963    юр. лицо         1         company\n",
       "39964    юр. лицо         1         company\n",
       "39965    юр. лицо         1         company\n",
       "\n",
       "[39959 rows x 3 columns]"
      ]
     },
     "execution_count": 108,
     "metadata": {},
     "output_type": "execute_result"
    }
   ],
   "source": [
    "data.loc[:,['client_type','quantity','client_type_cor']]"
   ]
  },
  {
   "cell_type": "code",
   "execution_count": 109,
   "id": "33872189",
   "metadata": {
    "id": "33872189"
   },
   "outputs": [],
   "source": [
    "data['client_type'] = data['client_type_cor']\n",
    "data = data.drop('client_type_cor',axis=1)"
   ]
  },
  {
   "cell_type": "markdown",
   "id": "b6bb7e08",
   "metadata": {
    "id": "b6bb7e08"
   },
   "source": [
    "### Sale usd"
   ]
  },
  {
   "cell_type": "code",
   "execution_count": 110,
   "id": "a9b0eb78",
   "metadata": {
    "id": "a9b0eb78",
    "outputId": "63e82b37-c137-4384-c6b7-5411ec1c771c"
   },
   "outputs": [
    {
     "data": {
      "image/png": "[encoded data removed]",
      "text/plain": [
       "<Figure size 1000x1000 with 1 Axes>"
      ]
     },
     "metadata": {},
     "output_type": "display_data"
    }
   ],
   "source": [
    "plt.figure(figsize=(10, 10))\n",
    "\n",
    "\n",
    "sns.histplot(data=data.query('sale_usd<150000'), x=\"sale_usd\", alpha = 0.5)\n",
    "sns.histplot(data=data.query('price_usd<150000'), x=\"price_usd\", alpha = 0.5)\n",
    "\n",
    "\n",
    "plt.xlabel('Price and sale price')\n",
    "plt.ylabel('Quantity')\n",
    "plt.title('Dynamics of price distribution')\n",
    "plt.xticks(rotation=90)\n",
    "\n",
    "plt.show()"
   ]
  },
  {
   "cell_type": "markdown",
   "id": "70f64dac",
   "metadata": {
    "id": "70f64dac"
   },
   "source": [
    "### The region where the car was sold\n"
   ]
  },
  {
   "cell_type": "markdown",
   "id": "8bb95f96",
   "metadata": {
    "id": "8bb95f96"
   },
   "source": [
    "Artifacts or missing values not found."
   ]
  },
  {
   "cell_type": "code",
   "execution_count": 111,
   "id": "39e09396",
   "metadata": {},
   "outputs": [
    {
     "data": {
      "text/plain": [
       "array(['г.Алматы', 'г.Нур-Султан', 'Восточно-Казахстанская область',\n",
       "       'Западно-Казахстанская область', 'Костанайская область',\n",
       "       'Павлодарская область', 'Южно-Казахстанская область',\n",
       "       'Мангистауская область', 'Атырауская область',\n",
       "       'Актюбинская область', 'Карагандинская область',\n",
       "       'Северо-Казахстанская область', 'Акмолинская область',\n",
       "       'Кызылординская область', 'Жамбылская область',\n",
       "       'Туркестанская область', 'Алматинская область', 'Экспорт область'],\n",
       "      dtype=object)"
      ]
     },
     "execution_count": 111,
     "metadata": {},
     "output_type": "execute_result"
    }
   ],
   "source": [
    "data['area'].unique()"
   ]
  },
  {
   "cell_type": "code",
   "execution_count": 112,
   "id": "bb1af7bc",
   "metadata": {},
   "outputs": [],
   "source": [
    "# regions translation\n",
    "translation_dict = {\n",
    "    'г.Алматы': 'Almaty city',\n",
    "    'г.Нур-Султан': 'Nur-Sultan city',\n",
    "    'Восточно-Казахстанская область': 'East Kazakhstan region',\n",
    "    'Западно-Казахстанская область': 'West Kazakhstan region',\n",
    "    'Костанайская область': 'Kostanay region',\n",
    "    'Павлодарская область': 'Pavlodar region',\n",
    "    'Южно-Казахстанская область': 'South Kazakhstan region',\n",
    "    'Мангистауская область': 'Mangystau region',\n",
    "    'Атырауская область': 'Atyrau region',\n",
    "    'Актюбинская область': 'Aktobe region',\n",
    "    'Карагандинская область': 'Karaganda region',\n",
    "    'Северо-Казахстанская область': 'North Kazakhstan region',\n",
    "    'Акмолинская область': 'Akmola region',\n",
    "    'Кызылординская область': 'Kyzylorda region',\n",
    "    'Жамбылская область': 'Zhambyl region',\n",
    "    'Туркестанская область': 'Turkestan region',\n",
    "    'Алматинская область': 'Almaty region',\n",
    "    'Экспорт область': 'Export region'\n",
    "}\n",
    "data['area'] = data['area'].map(translation_dict)"
   ]
  },
  {
   "cell_type": "code",
   "execution_count": 113,
   "id": "44bde2a5",
   "metadata": {
    "id": "44bde2a5",
    "outputId": "99f4d722-d121-4b64-c016-37fce14a89b2",
    "scrolled": true
   },
   "outputs": [
    {
     "data": {
      "text/plain": [
       "Almaty city                11177\n",
       "Nur-Sultan city             8243\n",
       "South Kazakhstan region     2880\n",
       "Kostanay region             2494\n",
       "Atyrau region               2164\n",
       "Name: area, dtype: int64"
      ]
     },
     "execution_count": 113,
     "metadata": {},
     "output_type": "execute_result"
    }
   ],
   "source": [
    "data['area'].value_counts().head()"
   ]
  },
  {
   "cell_type": "markdown",
   "id": "935635c5",
   "metadata": {
    "id": "935635c5"
   },
   "source": [
    "## Conclusions and results of data preprocessing"
   ]
  },
  {
   "cell_type": "code",
   "execution_count": 114,
   "id": "92d1e6e2",
   "metadata": {
    "id": "92d1e6e2"
   },
   "outputs": [],
   "source": [
    "data = data.reset_index(drop = True) # indexation restart"
   ]
  },
  {
   "cell_type": "code",
   "execution_count": 115,
   "id": "9d553b66",
   "metadata": {
    "id": "9d553b66",
    "outputId": "e1f063d2-abd6-40c7-b622-ce18924bb16c"
   },
   "outputs": [
    {
     "data": {
      "text/html": [
       "<div>\n",
       "<style scoped>\n",
       "    .dataframe tbody tr th:only-of-type {\n",
       "        vertical-align: middle;\n",
       "    }\n",
       "\n",
       "    .dataframe tbody tr th {\n",
       "        vertical-align: top;\n",
       "    }\n",
       "\n",
       "    .dataframe thead th {\n",
       "        text-align: right;\n",
       "    }\n",
       "</style>\n",
       "<table border=\"1\" class=\"dataframe\">\n",
       "  <thead>\n",
       "    <tr style=\"text-align: right;\">\n",
       "      <th></th>\n",
       "      <th>year</th>\n",
       "      <th>month</th>\n",
       "      <th>company</th>\n",
       "      <th>brand</th>\n",
       "      <th>model</th>\n",
       "      <th>modification</th>\n",
       "      <th>year_of_manufacture</th>\n",
       "      <th>country_of_manufacture</th>\n",
       "      <th>type_of_fuel</th>\n",
       "      <th>engine_volume_l</th>\n",
       "      <th>...</th>\n",
       "      <th>quantity</th>\n",
       "      <th>price_usd</th>\n",
       "      <th>sale_usd</th>\n",
       "      <th>area</th>\n",
       "      <th>segmentation_2013</th>\n",
       "      <th>class_2013</th>\n",
       "      <th>segmentation_eng</th>\n",
       "      <th>month_num</th>\n",
       "      <th>engine_category</th>\n",
       "      <th>drive_type_flt</th>\n",
       "    </tr>\n",
       "  </thead>\n",
       "  <tbody>\n",
       "    <tr>\n",
       "      <th>0</th>\n",
       "      <td>2019</td>\n",
       "      <td>Май</td>\n",
       "      <td>Mercur Auto</td>\n",
       "      <td>Audi</td>\n",
       "      <td>A3</td>\n",
       "      <td>TFSI</td>\n",
       "      <td>2018</td>\n",
       "      <td>Германия</td>\n",
       "      <td>gasoline</td>\n",
       "      <td>1.4</td>\n",
       "      <td>...</td>\n",
       "      <td>1</td>\n",
       "      <td>28115.00</td>\n",
       "      <td>28115.00</td>\n",
       "      <td>Almaty city</td>\n",
       "      <td>Passenger cars</td>\n",
       "      <td>C класс</td>\n",
       "      <td>C</td>\n",
       "      <td>5</td>\n",
       "      <td>small</td>\n",
       "      <td>FWD</td>\n",
       "    </tr>\n",
       "    <tr>\n",
       "      <th>1</th>\n",
       "      <td>2019</td>\n",
       "      <td>Август</td>\n",
       "      <td>Mercur Auto</td>\n",
       "      <td>Audi</td>\n",
       "      <td>A3</td>\n",
       "      <td>TFSI</td>\n",
       "      <td>2018</td>\n",
       "      <td>Германия</td>\n",
       "      <td>gasoline</td>\n",
       "      <td>1.4</td>\n",
       "      <td>...</td>\n",
       "      <td>1</td>\n",
       "      <td>32246.99</td>\n",
       "      <td>32246.99</td>\n",
       "      <td>Almaty city</td>\n",
       "      <td>Passenger cars</td>\n",
       "      <td>C класс</td>\n",
       "      <td>C</td>\n",
       "      <td>8</td>\n",
       "      <td>small</td>\n",
       "      <td>FWD</td>\n",
       "    </tr>\n",
       "    <tr>\n",
       "      <th>2</th>\n",
       "      <td>2019</td>\n",
       "      <td>Апрель</td>\n",
       "      <td>Mercur Auto</td>\n",
       "      <td>Audi</td>\n",
       "      <td>A4</td>\n",
       "      <td>TFSI</td>\n",
       "      <td>2018</td>\n",
       "      <td>Германия</td>\n",
       "      <td>gasoline</td>\n",
       "      <td>1.4</td>\n",
       "      <td>...</td>\n",
       "      <td>1</td>\n",
       "      <td>32000.00</td>\n",
       "      <td>32000.00</td>\n",
       "      <td>Almaty city</td>\n",
       "      <td>Passenger cars</td>\n",
       "      <td>D класс</td>\n",
       "      <td>D</td>\n",
       "      <td>4</td>\n",
       "      <td>small</td>\n",
       "      <td>FWD</td>\n",
       "    </tr>\n",
       "    <tr>\n",
       "      <th>3</th>\n",
       "      <td>2019</td>\n",
       "      <td>Июль</td>\n",
       "      <td>Mercur Auto</td>\n",
       "      <td>Audi</td>\n",
       "      <td>A4</td>\n",
       "      <td>TFSI</td>\n",
       "      <td>2018</td>\n",
       "      <td>Германия</td>\n",
       "      <td>gasoline</td>\n",
       "      <td>1.4</td>\n",
       "      <td>...</td>\n",
       "      <td>1</td>\n",
       "      <td>31929.00</td>\n",
       "      <td>31929.00</td>\n",
       "      <td>Almaty city</td>\n",
       "      <td>Passenger cars</td>\n",
       "      <td>D класс</td>\n",
       "      <td>D</td>\n",
       "      <td>7</td>\n",
       "      <td>small</td>\n",
       "      <td>FWD</td>\n",
       "    </tr>\n",
       "    <tr>\n",
       "      <th>4</th>\n",
       "      <td>2019</td>\n",
       "      <td>Июль</td>\n",
       "      <td>Mercur Auto</td>\n",
       "      <td>Audi</td>\n",
       "      <td>A4</td>\n",
       "      <td>TFSI</td>\n",
       "      <td>2018</td>\n",
       "      <td>Германия</td>\n",
       "      <td>gasoline</td>\n",
       "      <td>1.4</td>\n",
       "      <td>...</td>\n",
       "      <td>1</td>\n",
       "      <td>31929.00</td>\n",
       "      <td>31929.00</td>\n",
       "      <td>Almaty city</td>\n",
       "      <td>Passenger cars</td>\n",
       "      <td>D класс</td>\n",
       "      <td>D</td>\n",
       "      <td>7</td>\n",
       "      <td>small</td>\n",
       "      <td>FWD</td>\n",
       "    </tr>\n",
       "  </tbody>\n",
       "</table>\n",
       "<p>5 rows × 25 columns</p>\n",
       "</div>"
      ],
      "text/plain": [
       "   year   month      company brand model modification year_of_manufacture  \\\n",
       "0  2019     Май  Mercur Auto  Audi    A3         TFSI                2018   \n",
       "1  2019  Август  Mercur Auto  Audi    A3         TFSI                2018   \n",
       "2  2019  Апрель  Mercur Auto  Audi    A4         TFSI                2018   \n",
       "3  2019    Июль  Mercur Auto  Audi    A4         TFSI                2018   \n",
       "4  2019    Июль  Mercur Auto  Audi    A4         TFSI                2018   \n",
       "\n",
       "  country_of_manufacture type_of_fuel  engine_volume_l  ... quantity  \\\n",
       "0               Германия     gasoline              1.4  ...        1   \n",
       "1               Германия     gasoline              1.4  ...        1   \n",
       "2               Германия     gasoline              1.4  ...        1   \n",
       "3               Германия     gasoline              1.4  ...        1   \n",
       "4               Германия     gasoline              1.4  ...        1   \n",
       "\n",
       "  price_usd  sale_usd         area segmentation_2013  class_2013  \\\n",
       "0  28115.00  28115.00  Almaty city    Passenger cars     C класс   \n",
       "1  32246.99  32246.99  Almaty city    Passenger cars     C класс   \n",
       "2  32000.00  32000.00  Almaty city    Passenger cars     D класс   \n",
       "3  31929.00  31929.00  Almaty city    Passenger cars     D класс   \n",
       "4  31929.00  31929.00  Almaty city    Passenger cars     D класс   \n",
       "\n",
       "   segmentation_eng  month_num engine_category drive_type_flt  \n",
       "0                 C          5           small            FWD  \n",
       "1                 C          8           small            FWD  \n",
       "2                 D          4           small            FWD  \n",
       "3                 D          7           small            FWD  \n",
       "4                 D          7           small            FWD  \n",
       "\n",
       "[5 rows x 25 columns]"
      ]
     },
     "execution_count": 115,
     "metadata": {},
     "output_type": "execute_result"
    }
   ],
   "source": [
    "data.head()"
   ]
  },
  {
   "cell_type": "code",
   "execution_count": 118,
   "id": "ca4a263d",
   "metadata": {
    "id": "ca4a263d",
    "outputId": "6c84d75e-4eb0-4b0f-a4ff-8fce273f2a97"
   },
   "outputs": [
    {
     "name": "stdout",
     "output_type": "stream",
     "text": [
      "Rows lost 7\n",
      "Loss percentage 0.018%\n"
     ]
    }
   ],
   "source": [
    "schape_end = data.shape[0]\n",
    "lost = start_shape_rows - schape_end\n",
    "percentage = round((start_shape_rows - schape_end)*100/start_shape_rows, 3)\n",
    "print(f'Rows lost {lost}' )\n",
    "print(f'Loss percentage {percentage}%' )"
   ]
  },
  {
   "cell_type": "markdown",
   "id": "47123383",
   "metadata": {
    "id": "47123383"
   },
   "source": [
    "Conclysions and results \n",
    "\n",
    "    1. All numercal values has been transfered to float : engine_volume_l, price_usd, sale_usd.\n",
    "    2. Integer quantity values converted to int.\n",
    "    3. All car parammetrs and company names transfered to uniform format.\n",
    "    4. Most of missing values filled by indirect evidence or was found in open sourse.\n",
    "    5. Implicit duplicats corected.\n",
    "    6. Columns engine_volume_l и drive_type splited by categories.\n",
    "    7. The shift in columns: 'type_of_fuel', 'engine_volume_l', 'gearbox', has been detected.\n",
    "    \n",
    "The part of deleted rows is 0.018%.\n",
    "\n",
    "Dataset is ready for analisis."
   ]
  },
  {
   "cell_type": "code",
   "execution_count": 117,
   "id": "0ec94ef6",
   "metadata": {
    "id": "0ec94ef6"
   },
   "outputs": [],
   "source": [
    "data.to_csv('/Users/Santonica/Documents/Yandex_Prakt/Мастерская/данные для проекта/auto_kz_2019_new.csv', index=False ,sep =',')\n"
   ]
  }
 ],
 "metadata": {
  "colab": {
   "provenance": []
  },
  "kernelspec": {
   "display_name": "Python 3 (ipykernel)",
   "language": "python",
   "name": "python3"
  },
  "language_info": {
   "codemirror_mode": {
    "name": "ipython",
    "version": 3
   },
   "file_extension": ".py",
   "mimetype": "text/x-python",
   "name": "python",
   "nbconvert_exporter": "python",
   "pygments_lexer": "ipython3",
   "version": "3.10.9"
  }
 },
 "nbformat": 4,
 "nbformat_minor": 5
}
